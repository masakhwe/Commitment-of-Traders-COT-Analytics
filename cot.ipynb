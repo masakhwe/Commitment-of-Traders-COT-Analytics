{
 "cells": [
  {
   "cell_type": "code",
   "execution_count": 48,
   "id": "b878f347",
   "metadata": {},
   "outputs": [],
   "source": [
    "import pyspark\n",
    "from pyspark.sql import SparkSession\n",
    "from pyspark.conf import SparkConf\n",
    "from pyspark.context import SparkContext\n",
    "from pyspark.sql import functions as F\n",
    "\n",
    "import os\n",
    "import pandas as pd\n",
    "from dotenv import load_dotenv"
   ]
  },
  {
   "cell_type": "markdown",
   "id": "063c6227",
   "metadata": {},
   "source": [
    "Configuration"
   ]
  },
  {
   "cell_type": "code",
   "execution_count": 49,
   "id": "3003b0bf",
   "metadata": {},
   "outputs": [],
   "source": [
    "load_dotenv()\n",
    "credentials_location = os.getenv('GCP_CREDENTIALS_LOCATION')\n",
    "gcp_bucket_name = os.getenv('GCP_BUCKET')"
   ]
  },
  {
   "cell_type": "code",
   "execution_count": 3,
   "id": "384e48b5",
   "metadata": {},
   "outputs": [],
   "source": [
    "conf = SparkConf() \\\n",
    "    .setMaster('local[*]') \\\n",
    "    .setAppName('test') \\\n",
    "    .set(\"spark.jars\", \"/Users/Manu/lib/gcs-connector-hadoop3-2.2.5.jar\") \\\n",
    "    .set(\"spark.hadoop.google.cloud.auth.service.account.enable\", \"true\") \\\n",
    "    .set(\"spark.hadoop.google.cloud.auth.service.account.json.keyfile\", credentials_location)"
   ]
  },
  {
   "cell_type": "markdown",
   "id": "a15ca801",
   "metadata": {},
   "source": [
    "Context"
   ]
  },
  {
   "cell_type": "code",
   "execution_count": 4,
   "id": "727e98df",
   "metadata": {},
   "outputs": [
    {
     "name": "stderr",
     "output_type": "stream",
     "text": [
      "22/04/11 12:41:21 WARN NativeCodeLoader: Unable to load native-hadoop library for your platform... using builtin-java classes where applicable\n",
      "Using Spark's default log4j profile: org/apache/spark/log4j-defaults.properties\n",
      "Setting default log level to \"WARN\".\n",
      "To adjust logging level use sc.setLogLevel(newLevel). For SparkR, use setLogLevel(newLevel).\n"
     ]
    }
   ],
   "source": [
    "sc = SparkContext(conf=conf)\n",
    "\n",
    "hadoop_conf = sc._jsc.hadoopConfiguration()\n",
    "\n",
    "hadoop_conf.set(\"fs.AbstractFileSystem.gs.impl\", \"com.google.cloud.hadoop.fs.gcs.GoogleHadoopFS\")\n",
    "hadoop_conf.set(\"fs.gs.impl\", \"com.google.cloud.hadoop.fs.gcs.GoogleHadoopFileSystem\")\n",
    "hadoop_conf.set(\"fs.gs.auth.service.account.json.keyfile\", credentials_location)\n",
    "hadoop_conf.set(\"fs.gs.auth.service.account.enable\", 'true')"
   ]
  },
  {
   "cell_type": "markdown",
   "id": "6b90d66f",
   "metadata": {},
   "source": [
    "Session"
   ]
  },
  {
   "cell_type": "code",
   "execution_count": 5,
   "id": "50ac3b22",
   "metadata": {},
   "outputs": [],
   "source": [
    "spark = SparkSession.builder \\\n",
    "    .config(\"spark.jars.packages\", \"com.crealytics:spark-excel_2.11:0.12.2\", conf=sc.getConf()) \\\n",
    "    .getOrCreate()"
   ]
  },
  {
   "cell_type": "markdown",
   "id": "286bfe3c",
   "metadata": {},
   "source": [
    "Reading data from google cloug storage"
   ]
  },
  {
   "cell_type": "code",
   "execution_count": 81,
   "id": "84704804",
   "metadata": {},
   "outputs": [],
   "source": [
    "cot = spark.read \\\n",
    "    .text(f'gs://{gcp_bucket_name}/raw/*')"
   ]
  },
  {
   "cell_type": "code",
   "execution_count": 57,
   "id": "33524d65",
   "metadata": {},
   "outputs": [
    {
     "name": "stderr",
     "output_type": "stream",
     "text": [
      "\r",
      "[Stage 35:>                                                         (0 + 1) / 1]\r"
     ]
    },
    {
     "name": "stdout",
     "output_type": "stream",
     "text": [
      "+--------------------+\n",
      "|               value|\n",
      "+--------------------+\n",
      "|\"Market_and_Excha...|\n",
      "|\"CANADIAN DOLLAR ...|\n",
      "|\"CANADIAN DOLLAR ...|\n",
      "|\"CANADIAN DOLLAR ...|\n",
      "|\"CANADIAN DOLLAR ...|\n",
      "+--------------------+\n",
      "only showing top 5 rows\n",
      "\n"
     ]
    },
    {
     "name": "stderr",
     "output_type": "stream",
     "text": [
      "\r",
      "                                                                                \r"
     ]
    }
   ],
   "source": [
    "cot.show(5)"
   ]
  },
  {
   "cell_type": "code",
   "execution_count": 8,
   "id": "2a4a199f",
   "metadata": {},
   "outputs": [
    {
     "name": "stderr",
     "output_type": "stream",
     "text": [
      "                                                                                \r"
     ]
    },
    {
     "data": {
      "text/plain": [
       "24140"
      ]
     },
     "execution_count": 8,
     "metadata": {},
     "output_type": "execute_result"
    }
   ],
   "source": [
    "cot.count()"
   ]
  },
  {
   "cell_type": "code",
   "execution_count": 9,
   "id": "6645c0e0",
   "metadata": {},
   "outputs": [
    {
     "name": "stderr",
     "output_type": "stream",
     "text": [
      "                                                                                \r"
     ]
    },
    {
     "data": {
      "text/plain": [
       "[Row(value='\"Market_and_Exchange_Names\",\"As_of_Date_In_Form_YYMMDD\",\"Report_Date_as_YYYY-MM-DD\",\"CFTC_Contract_Market_Code\",\"CFTC_Market_Code\",\"CFTC_Region_Code\",\"CFTC_Commodity_Code\",\"Open_Interest_All\",\"Dealer_Positions_Long_All\",\"Dealer_Positions_Short_All\",\"Dealer_Positions_Spread_All\",\"Asset_Mgr_Positions_Long_All\",\"Asset_Mgr_Positions_Short_All\",\"Asset_Mgr_Positions_Spread_All\",\"Lev_Money_Positions_Long_All\",\"Lev_Money_Positions_Short_All\",\"Lev_Money_Positions_Spread_All\",\"Other_Rept_Positions_Long_All\",\"Other_Rept_Positions_Short_All\",\"Other_Rept_Positions_Spread_All\",\"Tot_Rept_Positions_Long_All\",\"Tot_Rept_Positions_Short_All\",\"NonRept_Positions_Long_All\",\"NonRept_Positions_Short_All\",\"Change_in_Open_Interest_All\",\"Change_in_Dealer_Long_All\",\"Change_in_Dealer_Short_All\",\"Change_in_Dealer_Spread_All\",\"Change_in_Asset_Mgr_Long_All\",\"Change_in_Asset_Mgr_Short_All\",\"Change_in_Asset_Mgr_Spread_All\",\"Change_in_Lev_Money_Long_All\",\"Change_in_Lev_Money_Short_All\",\"Change_in_Lev_Money_Spread_All\",\"Change_in_Other_Rept_Long_All\",\"Change_in_Other_Rept_Short_All\",\"Change_in_Other_Rept_Spread_All\",\"Change_in_Tot_Rept_Long_All\",\"Change_in_Tot_Rept_Short_All\",\"Change_in_NonRept_Long_All\",\"Change_in_NonRept_Short_All\",\"Pct_of_Open_Interest_All\",\"Pct_of_OI_Dealer_Long_All\",\"Pct_of_OI_Dealer_Short_All\",\"Pct_of_OI_Dealer_Spread_All\",\"Pct_of_OI_Asset_Mgr_Long_All\",\"Pct_of_OI_Asset_Mgr_Short_All\",\"Pct_of_OI_Asset_Mgr_Spread_All\",\"Pct_of_OI_Lev_Money_Long_All\",\"Pct_of_OI_Lev_Money_Short_All\",\"Pct_of_OI_Lev_Money_Spread_All\",\"Pct_of_OI_Other_Rept_Long_All\",\"Pct_of_OI_Other_Rept_Short_All\",\"Pct_of_OI_Other_Rept_Spread_All\",\"Pct_of_OI_Tot_Rept_Long_All\",\"Pct_of_OI_Tot_Rept_Short_All\",\"Pct_of_OI_NonRept_Long_All\",\"Pct_of_OI_NonRept_Short_All\",\"Traders_Tot_All\",\"Traders_Dealer_Long_All\",\"Traders_Dealer_Short_All\",\"Traders_Dealer_Spread_All\",\"Traders_Asset_Mgr_Long_All\",\"Traders_Asset_Mgr_Short_All\",\"Traders_Asset_Mgr_Spread_All\",\"Traders_Lev_Money_Long_All\",\"Traders_Lev_Money_Short_All\",\"Traders_Lev_Money_Spread_All\",\"Traders_Other_Rept_Long_All\",\"Traders_Other_Rept_Short_All\",\"Traders_Other_Rept_Spread_All\",\"Traders_Tot_Rept_Long_All\",\"Traders_Tot_Rept_Short_All\",\"Conc_Gross_LE_4_TDR_Long_All\",\"Conc_Gross_LE_4_TDR_Short_All\",\"Conc_Gross_LE_8_TDR_Long_All\",\"Conc_Gross_LE_8_TDR_Short_All\",\"Conc_Net_LE_4_TDR_Long_All\",\"Conc_Net_LE_4_TDR_Short_All\",\"Conc_Net_LE_8_TDR_Long_All\",\"Conc_Net_LE_8_TDR_Short_All\",\"Contract_Units\",\"CFTC_Contract_Market_Code_Quotes\",\"CFTC_Market_Code_Quotes\",\"CFTC_Commodity_Code_Quotes\",\"CFTC_SubGroup_Code\",\"FutOnly_or_Combined\"'),\n",
       " Row(value='\"CANADIAN DOLLAR - CHICAGO MERCANTILE EXCHANGE\",211228,2021-12-28,090741,CME ,00,090 ,  138692,   33018,   15462,    1615,   39561,   42085,    4817,   12466,   39885,    3957,   12894,    3674,     452,  108780,  111947,   29912,   26745,   -6870,   -1890,     506,     195,   -1565,   -3892,      86,   -3859,   -4047,    -229,     -44,     805,     -26,   -7332,   -6602,     462,    -268,  100.0,   23.8,   11.1,    1.2,   28.5,   30.3,    3.5,    9.0,   28.8,    2.9,    9.3,    2.6,    0.3,   78.4,   80.7,   21.6,   19.3,    105,      6,      7,.,     14,     21,     10,     14,     28,     12,     10,.,.,     60,     70,    33.3,    19.8,    45.5,    32.3,    32.8,    19.5,    43.5,    31.3,\"(CONTRACTS OF CAD 100,000)\",\"090741\",\"CME \",\"090 \",\"F10\",\"FutOnly\"')]"
      ]
     },
     "execution_count": 9,
     "metadata": {},
     "output_type": "execute_result"
    }
   ],
   "source": [
    "cot.collect()[:2]"
   ]
  },
  {
   "cell_type": "markdown",
   "id": "86f3af62",
   "metadata": {},
   "source": [
    "1. All colums have been combined into one column called `value`\n",
    "2. Need to split the column"
   ]
  },
  {
   "cell_type": "markdown",
   "id": "c5d745a2",
   "metadata": {},
   "source": [
    "Extract the column names from the row object"
   ]
  },
  {
   "cell_type": "code",
   "execution_count": 26,
   "id": "8559fcac",
   "metadata": {},
   "outputs": [
    {
     "name": "stderr",
     "output_type": "stream",
     "text": [
      "[Stage 20:======================================>                   (4 + 2) / 6]\r"
     ]
    },
    {
     "name": "stdout",
     "output_type": "stream",
     "text": [
      "\"Market_and_Exchange_Names\",\"As_of_Date_In_Form_YYMMDD\",\"Report_Date_as_YYYY-MM-DD\",\"CFTC_Contract_Market_Code\",\"CFTC_Market_Code\",\"CFTC_Region_Code\",\"CFTC_Commodity_Code\",\"Open_Interest_All\",\"Dealer_Positions_Long_All\",\"Dealer_Positions_Short_All\",\"Dealer_Positions_Spread_All\",\"Asset_Mgr_Positions_Long_All\",\"Asset_Mgr_Positions_Short_All\",\"Asset_Mgr_Positions_Spread_All\",\"Lev_Money_Positions_Long_All\",\"Lev_Money_Positions_Short_All\",\"Lev_Money_Positions_Spread_All\",\"Other_Rept_Positions_Long_All\",\"Other_Rept_Positions_Short_All\",\"Other_Rept_Positions_Spread_All\",\"Tot_Rept_Positions_Long_All\",\"Tot_Rept_Positions_Short_All\",\"NonRept_Positions_Long_All\",\"NonRept_Positions_Short_All\",\"Change_in_Open_Interest_All\",\"Change_in_Dealer_Long_All\",\"Change_in_Dealer_Short_All\",\"Change_in_Dealer_Spread_All\",\"Change_in_Asset_Mgr_Long_All\",\"Change_in_Asset_Mgr_Short_All\",\"Change_in_Asset_Mgr_Spread_All\",\"Change_in_Lev_Money_Long_All\",\"Change_in_Lev_Money_Short_All\",\"Change_in_Lev_Money_Spread_All\",\"Change_in_Other_Rept_Long_All\",\"Change_in_Other_Rept_Short_All\",\"Change_in_Other_Rept_Spread_All\",\"Change_in_Tot_Rept_Long_All\",\"Change_in_Tot_Rept_Short_All\",\"Change_in_NonRept_Long_All\",\"Change_in_NonRept_Short_All\",\"Pct_of_Open_Interest_All\",\"Pct_of_OI_Dealer_Long_All\",\"Pct_of_OI_Dealer_Short_All\",\"Pct_of_OI_Dealer_Spread_All\",\"Pct_of_OI_Asset_Mgr_Long_All\",\"Pct_of_OI_Asset_Mgr_Short_All\",\"Pct_of_OI_Asset_Mgr_Spread_All\",\"Pct_of_OI_Lev_Money_Long_All\",\"Pct_of_OI_Lev_Money_Short_All\",\"Pct_of_OI_Lev_Money_Spread_All\",\"Pct_of_OI_Other_Rept_Long_All\",\"Pct_of_OI_Other_Rept_Short_All\",\"Pct_of_OI_Other_Rept_Spread_All\",\"Pct_of_OI_Tot_Rept_Long_All\",\"Pct_of_OI_Tot_Rept_Short_All\",\"Pct_of_OI_NonRept_Long_All\",\"Pct_of_OI_NonRept_Short_All\",\"Traders_Tot_All\",\"Traders_Dealer_Long_All\",\"Traders_Dealer_Short_All\",\"Traders_Dealer_Spread_All\",\"Traders_Asset_Mgr_Long_All\",\"Traders_Asset_Mgr_Short_All\",\"Traders_Asset_Mgr_Spread_All\",\"Traders_Lev_Money_Long_All\",\"Traders_Lev_Money_Short_All\",\"Traders_Lev_Money_Spread_All\",\"Traders_Other_Rept_Long_All\",\"Traders_Other_Rept_Short_All\",\"Traders_Other_Rept_Spread_All\",\"Traders_Tot_Rept_Long_All\",\"Traders_Tot_Rept_Short_All\",\"Conc_Gross_LE_4_TDR_Long_All\",\"Conc_Gross_LE_4_TDR_Short_All\",\"Conc_Gross_LE_8_TDR_Long_All\",\"Conc_Gross_LE_8_TDR_Short_All\",\"Conc_Net_LE_4_TDR_Long_All\",\"Conc_Net_LE_4_TDR_Short_All\",\"Conc_Net_LE_8_TDR_Long_All\",\"Conc_Net_LE_8_TDR_Short_All\",\"Contract_Units\",\"CFTC_Contract_Market_Code_Quotes\",\"CFTC_Market_Code_Quotes\",\"CFTC_Commodity_Code_Quotes\",\"CFTC_SubGroup_Code\",\"FutOnly_or_Combined\"\n"
     ]
    },
    {
     "name": "stderr",
     "output_type": "stream",
     "text": [
      "\r",
      "                                                                                \r"
     ]
    }
   ],
   "source": [
    "col_row = cot.collect()[0].asDict()['value']\n",
    "print(col)"
   ]
  },
  {
   "cell_type": "markdown",
   "id": "8db327da",
   "metadata": {},
   "source": [
    "Split the `col_row` to get a list of columns and remove the extra quotation marks"
   ]
  },
  {
   "cell_type": "code",
   "execution_count": 41,
   "id": "534794e7",
   "metadata": {},
   "outputs": [
    {
     "name": "stdout",
     "output_type": "stream",
     "text": [
      "0, Market_and_Exchange_Names \n",
      "\n",
      "1, As_of_Date_In_Form_YYMMDD \n",
      "\n",
      "2, Report_Date_as_YYYY-MM-DD \n",
      "\n",
      "3, CFTC_Contract_Market_Code \n",
      "\n",
      "4, CFTC_Market_Code \n",
      "\n",
      "5, CFTC_Region_Code \n",
      "\n",
      "6, CFTC_Commodity_Code \n",
      "\n",
      "7, Open_Interest_All \n",
      "\n",
      "8, Dealer_Positions_Long_All \n",
      "\n",
      "9, Dealer_Positions_Short_All \n",
      "\n",
      "10, Dealer_Positions_Spread_All \n",
      "\n",
      "11, Asset_Mgr_Positions_Long_All \n",
      "\n",
      "12, Asset_Mgr_Positions_Short_All \n",
      "\n",
      "13, Asset_Mgr_Positions_Spread_All \n",
      "\n",
      "14, Lev_Money_Positions_Long_All \n",
      "\n",
      "15, Lev_Money_Positions_Short_All \n",
      "\n",
      "16, Lev_Money_Positions_Spread_All \n",
      "\n",
      "17, Other_Rept_Positions_Long_All \n",
      "\n",
      "18, Other_Rept_Positions_Short_All \n",
      "\n",
      "19, Other_Rept_Positions_Spread_All \n",
      "\n",
      "20, Tot_Rept_Positions_Long_All \n",
      "\n",
      "21, Tot_Rept_Positions_Short_All \n",
      "\n",
      "22, NonRept_Positions_Long_All \n",
      "\n",
      "23, NonRept_Positions_Short_All \n",
      "\n",
      "24, Change_in_Open_Interest_All \n",
      "\n",
      "25, Change_in_Dealer_Long_All \n",
      "\n",
      "26, Change_in_Dealer_Short_All \n",
      "\n",
      "27, Change_in_Dealer_Spread_All \n",
      "\n",
      "28, Change_in_Asset_Mgr_Long_All \n",
      "\n",
      "29, Change_in_Asset_Mgr_Short_All \n",
      "\n",
      "30, Change_in_Asset_Mgr_Spread_All \n",
      "\n",
      "31, Change_in_Lev_Money_Long_All \n",
      "\n",
      "32, Change_in_Lev_Money_Short_All \n",
      "\n",
      "33, Change_in_Lev_Money_Spread_All \n",
      "\n",
      "34, Change_in_Other_Rept_Long_All \n",
      "\n",
      "35, Change_in_Other_Rept_Short_All \n",
      "\n",
      "36, Change_in_Other_Rept_Spread_All \n",
      "\n",
      "37, Change_in_Tot_Rept_Long_All \n",
      "\n",
      "38, Change_in_Tot_Rept_Short_All \n",
      "\n",
      "39, Change_in_NonRept_Long_All \n",
      "\n",
      "40, Change_in_NonRept_Short_All \n",
      "\n",
      "41, Pct_of_Open_Interest_All \n",
      "\n",
      "42, Pct_of_OI_Dealer_Long_All \n",
      "\n",
      "43, Pct_of_OI_Dealer_Short_All \n",
      "\n",
      "44, Pct_of_OI_Dealer_Spread_All \n",
      "\n",
      "45, Pct_of_OI_Asset_Mgr_Long_All \n",
      "\n",
      "46, Pct_of_OI_Asset_Mgr_Short_All \n",
      "\n",
      "47, Pct_of_OI_Asset_Mgr_Spread_All \n",
      "\n",
      "48, Pct_of_OI_Lev_Money_Long_All \n",
      "\n",
      "49, Pct_of_OI_Lev_Money_Short_All \n",
      "\n",
      "50, Pct_of_OI_Lev_Money_Spread_All \n",
      "\n",
      "51, Pct_of_OI_Other_Rept_Long_All \n",
      "\n",
      "52, Pct_of_OI_Other_Rept_Short_All \n",
      "\n",
      "53, Pct_of_OI_Other_Rept_Spread_All \n",
      "\n",
      "54, Pct_of_OI_Tot_Rept_Long_All \n",
      "\n",
      "55, Pct_of_OI_Tot_Rept_Short_All \n",
      "\n",
      "56, Pct_of_OI_NonRept_Long_All \n",
      "\n",
      "57, Pct_of_OI_NonRept_Short_All \n",
      "\n",
      "58, Traders_Tot_All \n",
      "\n",
      "59, Traders_Dealer_Long_All \n",
      "\n",
      "60, Traders_Dealer_Short_All \n",
      "\n",
      "61, Traders_Dealer_Spread_All \n",
      "\n",
      "62, Traders_Asset_Mgr_Long_All \n",
      "\n",
      "63, Traders_Asset_Mgr_Short_All \n",
      "\n",
      "64, Traders_Asset_Mgr_Spread_All \n",
      "\n",
      "65, Traders_Lev_Money_Long_All \n",
      "\n",
      "66, Traders_Lev_Money_Short_All \n",
      "\n",
      "67, Traders_Lev_Money_Spread_All \n",
      "\n",
      "68, Traders_Other_Rept_Long_All \n",
      "\n",
      "69, Traders_Other_Rept_Short_All \n",
      "\n",
      "70, Traders_Other_Rept_Spread_All \n",
      "\n",
      "71, Traders_Tot_Rept_Long_All \n",
      "\n",
      "72, Traders_Tot_Rept_Short_All \n",
      "\n",
      "73, Conc_Gross_LE_4_TDR_Long_All \n",
      "\n",
      "74, Conc_Gross_LE_4_TDR_Short_All \n",
      "\n",
      "75, Conc_Gross_LE_8_TDR_Long_All \n",
      "\n",
      "76, Conc_Gross_LE_8_TDR_Short_All \n",
      "\n",
      "77, Conc_Net_LE_4_TDR_Long_All \n",
      "\n",
      "78, Conc_Net_LE_4_TDR_Short_All \n",
      "\n",
      "79, Conc_Net_LE_8_TDR_Long_All \n",
      "\n",
      "80, Conc_Net_LE_8_TDR_Short_All \n",
      "\n",
      "81, Contract_Units \n",
      "\n",
      "82, CFTC_Contract_Market_Code_Quotes \n",
      "\n",
      "83, CFTC_Market_Code_Quotes \n",
      "\n",
      "84, CFTC_Commodity_Code_Quotes \n",
      "\n",
      "85, CFTC_SubGroup_Code \n",
      "\n",
      "86, FutOnly_or_Combined \n",
      "\n"
     ]
    }
   ],
   "source": [
    "cols_cleaned = []\n",
    "\n",
    "cols = col.split(\",\")\n",
    "for cl in cols:\n",
    "    cols_cleaned.append(cl[1:-1])\n",
    "    \n",
    "for key, val in enumerate(cols_cleaned):\n",
    "    print(f'{key}, {val} \\n')"
   ]
  },
  {
   "cell_type": "markdown",
   "id": "8ea5d69f",
   "metadata": {},
   "source": [
    "Generating new columns"
   ]
  },
  {
   "cell_type": "code",
   "execution_count": 82,
   "id": "3ef8de0f",
   "metadata": {},
   "outputs": [
    {
     "name": "stderr",
     "output_type": "stream",
     "text": [
      "\r",
      "[Stage 53:>                                                         (0 + 1) / 1]\r"
     ]
    },
    {
     "name": "stdout",
     "output_type": "stream",
     "text": [
      "+-------------------------+-------------------------+-------------------------+-------------------------+\n",
      "|Market_and_Exchange_Names|As_of_Date_In_Form_YYMMDD|Report_Date_as_YYYY-MM-DD|CFTC_Contract_Market_Code|\n",
      "+-------------------------+-------------------------+-------------------------+-------------------------+\n",
      "|     \"Market_and_Excha...|     \"As_of_Date_In_Fo...|     \"Report_Date_as_Y...|     \"CFTC_Contract_Ma...|\n",
      "|     \"CANADIAN DOLLAR ...|                   211228|               2021-12-28|                   090741|\n",
      "|     \"CANADIAN DOLLAR ...|                   211221|               2021-12-21|                   090741|\n",
      "|     \"CANADIAN DOLLAR ...|                   211214|               2021-12-14|                   090741|\n",
      "|     \"CANADIAN DOLLAR ...|                   211207|               2021-12-07|                   090741|\n",
      "|     \"CANADIAN DOLLAR ...|                   211130|               2021-11-30|                   090741|\n",
      "|     \"CANADIAN DOLLAR ...|                   211123|               2021-11-23|                   090741|\n",
      "|     \"CANADIAN DOLLAR ...|                   211116|               2021-11-16|                   090741|\n",
      "|     \"CANADIAN DOLLAR ...|                   211109|               2021-11-09|                   090741|\n",
      "|     \"CANADIAN DOLLAR ...|                   211102|               2021-11-02|                   090741|\n",
      "|     \"CANADIAN DOLLAR ...|                   211026|               2021-10-26|                   090741|\n",
      "|     \"CANADIAN DOLLAR ...|                   211019|               2021-10-19|                   090741|\n",
      "|     \"CANADIAN DOLLAR ...|                   211012|               2021-10-12|                   090741|\n",
      "|     \"CANADIAN DOLLAR ...|                   211005|               2021-10-05|                   090741|\n",
      "|     \"CANADIAN DOLLAR ...|                   210928|               2021-09-28|                   090741|\n",
      "|     \"CANADIAN DOLLAR ...|                   210921|               2021-09-21|                   090741|\n",
      "|     \"CANADIAN DOLLAR ...|                   210914|               2021-09-14|                   090741|\n",
      "|     \"CANADIAN DOLLAR ...|                   210907|               2021-09-07|                   090741|\n",
      "|     \"CANADIAN DOLLAR ...|                   210831|               2021-08-31|                   090741|\n",
      "|     \"CANADIAN DOLLAR ...|                   210824|               2021-08-24|                   090741|\n",
      "+-------------------------+-------------------------+-------------------------+-------------------------+\n",
      "only showing top 20 rows\n",
      "\n"
     ]
    },
    {
     "name": "stderr",
     "output_type": "stream",
     "text": [
      "\r",
      "                                                                                \r"
     ]
    }
   ],
   "source": [
    "cot_split = cot.select(\"*\") # Copy the data frame\n",
    "\n",
    "split_cols = F.split(cot_split['value'], \",\")\n",
    "\n",
    "for key, value in enumerate(cols_cleaned):\n",
    "    cot_split = cot_split.withColumn(value, split_cols.getItem(key))\n",
    "\n",
    "cot_split.select(cols_cleaned[:4]).show()"
   ]
  },
  {
   "cell_type": "markdown",
   "id": "0111c92f",
   "metadata": {},
   "source": [
    "Add index column, use index column to filter out the first row, drop the first column and index column"
   ]
  },
  {
   "cell_type": "code",
   "execution_count": 97,
   "id": "90a1bd0c",
   "metadata": {},
   "outputs": [
    {
     "name": "stderr",
     "output_type": "stream",
     "text": [
      "\r",
      "[Stage 64:>                                                         (0 + 1) / 1]\r"
     ]
    },
    {
     "name": "stdout",
     "output_type": "stream",
     "text": [
      "+-------------------------+-------------------------+-------------------------+-------------------------+\n",
      "|Market_and_Exchange_Names|As_of_Date_In_Form_YYMMDD|Report_Date_as_YYYY-MM-DD|CFTC_Contract_Market_Code|\n",
      "+-------------------------+-------------------------+-------------------------+-------------------------+\n",
      "|     \"CANADIAN DOLLAR ...|                   211019|               2021-10-19|                   090741|\n",
      "|     \"CANADIAN DOLLAR ...|                   211012|               2021-10-12|                   090741|\n",
      "|     \"CANADIAN DOLLAR ...|                   211005|               2021-10-05|                   090741|\n",
      "|     \"CANADIAN DOLLAR ...|                   210928|               2021-09-28|                   090741|\n",
      "|     \"CANADIAN DOLLAR ...|                   210921|               2021-09-21|                   090741|\n",
      "|     \"CANADIAN DOLLAR ...|                   210914|               2021-09-14|                   090741|\n",
      "|     \"CANADIAN DOLLAR ...|                   210907|               2021-09-07|                   090741|\n",
      "|     \"CANADIAN DOLLAR ...|                   210831|               2021-08-31|                   090741|\n",
      "|     \"CANADIAN DOLLAR ...|                   210824|               2021-08-24|                   090741|\n",
      "|     \"CANADIAN DOLLAR ...|                   210817|               2021-08-17|                   090741|\n",
      "|     \"CANADIAN DOLLAR ...|                   210810|               2021-08-10|                   090741|\n",
      "|     \"CANADIAN DOLLAR ...|                   210803|               2021-08-03|                   090741|\n",
      "|     \"CANADIAN DOLLAR ...|                   210727|               2021-07-27|                   090741|\n",
      "|     \"CANADIAN DOLLAR ...|                   210720|               2021-07-20|                   090741|\n",
      "|     \"CANADIAN DOLLAR ...|                   210713|               2021-07-13|                   090741|\n",
      "|     \"CANADIAN DOLLAR ...|                   210706|               2021-07-06|                   090741|\n",
      "|     \"CANADIAN DOLLAR ...|                   210629|               2021-06-29|                   090741|\n",
      "|     \"CANADIAN DOLLAR ...|                   210622|               2021-06-22|                   090741|\n",
      "|     \"CANADIAN DOLLAR ...|                   210615|               2021-06-15|                   090741|\n",
      "|     \"CANADIAN DOLLAR ...|                   210608|               2021-06-08|                   090741|\n",
      "+-------------------------+-------------------------+-------------------------+-------------------------+\n",
      "only showing top 20 rows\n",
      "\n"
     ]
    },
    {
     "name": "stderr",
     "output_type": "stream",
     "text": [
      "\r",
      "                                                                                \r"
     ]
    }
   ],
   "source": [
    "# Add index column\n",
    "cot_split = cot_split.withColumn('index', F.monotonically_increasing_id())\n",
    "\n",
    "# filter out first column and drop value and index columns\n",
    "cot_split = cot_split.filter(cot_split['index'] >= 1) \\\n",
    "    .drop('value', 'index')\n",
    "\n",
    "cot_split.select(cols_cleaned[:4]).show()"
   ]
  },
  {
   "cell_type": "code",
   "execution_count": 99,
   "id": "09ad5289",
   "metadata": {},
   "outputs": [
    {
     "name": "stdout",
     "output_type": "stream",
     "text": [
      "root\n",
      " |-- Market_and_Exchange_Names: string (nullable = true)\n",
      " |-- As_of_Date_In_Form_YYMMDD: string (nullable = true)\n",
      " |-- Report_Date_as_YYYY-MM-DD: string (nullable = true)\n",
      " |-- CFTC_Contract_Market_Code: string (nullable = true)\n",
      " |-- CFTC_Market_Code: string (nullable = true)\n",
      " |-- CFTC_Region_Code: string (nullable = true)\n",
      " |-- CFTC_Commodity_Code: string (nullable = true)\n",
      " |-- Open_Interest_All: string (nullable = true)\n",
      " |-- Dealer_Positions_Long_All: string (nullable = true)\n",
      " |-- Dealer_Positions_Short_All: string (nullable = true)\n",
      " |-- Dealer_Positions_Spread_All: string (nullable = true)\n",
      " |-- Asset_Mgr_Positions_Long_All: string (nullable = true)\n",
      " |-- Asset_Mgr_Positions_Short_All: string (nullable = true)\n",
      " |-- Asset_Mgr_Positions_Spread_All: string (nullable = true)\n",
      " |-- Lev_Money_Positions_Long_All: string (nullable = true)\n",
      " |-- Lev_Money_Positions_Short_All: string (nullable = true)\n",
      " |-- Lev_Money_Positions_Spread_All: string (nullable = true)\n",
      " |-- Other_Rept_Positions_Long_All: string (nullable = true)\n",
      " |-- Other_Rept_Positions_Short_All: string (nullable = true)\n",
      " |-- Other_Rept_Positions_Spread_All: string (nullable = true)\n",
      " |-- Tot_Rept_Positions_Long_All: string (nullable = true)\n",
      " |-- Tot_Rept_Positions_Short_All: string (nullable = true)\n",
      " |-- NonRept_Positions_Long_All: string (nullable = true)\n",
      " |-- NonRept_Positions_Short_All: string (nullable = true)\n",
      " |-- Change_in_Open_Interest_All: string (nullable = true)\n",
      " |-- Change_in_Dealer_Long_All: string (nullable = true)\n",
      " |-- Change_in_Dealer_Short_All: string (nullable = true)\n",
      " |-- Change_in_Dealer_Spread_All: string (nullable = true)\n",
      " |-- Change_in_Asset_Mgr_Long_All: string (nullable = true)\n",
      " |-- Change_in_Asset_Mgr_Short_All: string (nullable = true)\n",
      " |-- Change_in_Asset_Mgr_Spread_All: string (nullable = true)\n",
      " |-- Change_in_Lev_Money_Long_All: string (nullable = true)\n",
      " |-- Change_in_Lev_Money_Short_All: string (nullable = true)\n",
      " |-- Change_in_Lev_Money_Spread_All: string (nullable = true)\n",
      " |-- Change_in_Other_Rept_Long_All: string (nullable = true)\n",
      " |-- Change_in_Other_Rept_Short_All: string (nullable = true)\n",
      " |-- Change_in_Other_Rept_Spread_All: string (nullable = true)\n",
      " |-- Change_in_Tot_Rept_Long_All: string (nullable = true)\n",
      " |-- Change_in_Tot_Rept_Short_All: string (nullable = true)\n",
      " |-- Change_in_NonRept_Long_All: string (nullable = true)\n",
      " |-- Change_in_NonRept_Short_All: string (nullable = true)\n",
      " |-- Pct_of_Open_Interest_All: string (nullable = true)\n",
      " |-- Pct_of_OI_Dealer_Long_All: string (nullable = true)\n",
      " |-- Pct_of_OI_Dealer_Short_All: string (nullable = true)\n",
      " |-- Pct_of_OI_Dealer_Spread_All: string (nullable = true)\n",
      " |-- Pct_of_OI_Asset_Mgr_Long_All: string (nullable = true)\n",
      " |-- Pct_of_OI_Asset_Mgr_Short_All: string (nullable = true)\n",
      " |-- Pct_of_OI_Asset_Mgr_Spread_All: string (nullable = true)\n",
      " |-- Pct_of_OI_Lev_Money_Long_All: string (nullable = true)\n",
      " |-- Pct_of_OI_Lev_Money_Short_All: string (nullable = true)\n",
      " |-- Pct_of_OI_Lev_Money_Spread_All: string (nullable = true)\n",
      " |-- Pct_of_OI_Other_Rept_Long_All: string (nullable = true)\n",
      " |-- Pct_of_OI_Other_Rept_Short_All: string (nullable = true)\n",
      " |-- Pct_of_OI_Other_Rept_Spread_All: string (nullable = true)\n",
      " |-- Pct_of_OI_Tot_Rept_Long_All: string (nullable = true)\n",
      " |-- Pct_of_OI_Tot_Rept_Short_All: string (nullable = true)\n",
      " |-- Pct_of_OI_NonRept_Long_All: string (nullable = true)\n",
      " |-- Pct_of_OI_NonRept_Short_All: string (nullable = true)\n",
      " |-- Traders_Tot_All: string (nullable = true)\n",
      " |-- Traders_Dealer_Long_All: string (nullable = true)\n",
      " |-- Traders_Dealer_Short_All: string (nullable = true)\n",
      " |-- Traders_Dealer_Spread_All: string (nullable = true)\n",
      " |-- Traders_Asset_Mgr_Long_All: string (nullable = true)\n",
      " |-- Traders_Asset_Mgr_Short_All: string (nullable = true)\n",
      " |-- Traders_Asset_Mgr_Spread_All: string (nullable = true)\n",
      " |-- Traders_Lev_Money_Long_All: string (nullable = true)\n",
      " |-- Traders_Lev_Money_Short_All: string (nullable = true)\n",
      " |-- Traders_Lev_Money_Spread_All: string (nullable = true)\n",
      " |-- Traders_Other_Rept_Long_All: string (nullable = true)\n",
      " |-- Traders_Other_Rept_Short_All: string (nullable = true)\n",
      " |-- Traders_Other_Rept_Spread_All: string (nullable = true)\n",
      " |-- Traders_Tot_Rept_Long_All: string (nullable = true)\n",
      " |-- Traders_Tot_Rept_Short_All: string (nullable = true)\n",
      " |-- Conc_Gross_LE_4_TDR_Long_All: string (nullable = true)\n",
      " |-- Conc_Gross_LE_4_TDR_Short_All: string (nullable = true)\n",
      " |-- Conc_Gross_LE_8_TDR_Long_All: string (nullable = true)\n",
      " |-- Conc_Gross_LE_8_TDR_Short_All: string (nullable = true)\n",
      " |-- Conc_Net_LE_4_TDR_Long_All: string (nullable = true)\n",
      " |-- Conc_Net_LE_4_TDR_Short_All: string (nullable = true)\n",
      " |-- Conc_Net_LE_8_TDR_Long_All: string (nullable = true)\n",
      " |-- Conc_Net_LE_8_TDR_Short_All: string (nullable = true)\n",
      " |-- Contract_Units: string (nullable = true)\n",
      " |-- CFTC_Contract_Market_Code_Quotes: string (nullable = true)\n",
      " |-- CFTC_Market_Code_Quotes: string (nullable = true)\n",
      " |-- CFTC_Commodity_Code_Quotes: string (nullable = true)\n",
      " |-- CFTC_SubGroup_Code: string (nullable = true)\n",
      " |-- FutOnly_or_Combined: string (nullable = true)\n",
      "\n"
     ]
    }
   ],
   "source": [
    "cot_split.printSchema()"
   ]
  },
  {
   "cell_type": "code",
   "execution_count": 100,
   "id": "cdc19f9f",
   "metadata": {},
   "outputs": [
    {
     "name": "stderr",
     "output_type": "stream",
     "text": [
      "                                                                                \r"
     ]
    }
   ],
   "source": [
    "cot_split.write.parquet(f'gs://{gcp_bucket_name}/cleaned/pq')"
   ]
  },
  {
   "cell_type": "code",
   "execution_count": null,
   "id": "311d984e",
   "metadata": {},
   "outputs": [],
   "source": []
  }
 ],
 "metadata": {
  "kernelspec": {
   "display_name": "Python 3.9.9 64-bit",
   "language": "python",
   "name": "python399jvsc74a57bd0aee8b7b246df8f9039afb4144a1f6fd8d2ca17a180786b69acc140d282b71a49"
  },
  "language_info": {
   "codemirror_mode": {
    "name": "ipython",
    "version": 3
   },
   "file_extension": ".py",
   "mimetype": "text/x-python",
   "name": "python",
   "nbconvert_exporter": "python",
   "pygments_lexer": "ipython3",
   "version": "3.9.9"
  }
 },
 "nbformat": 4,
 "nbformat_minor": 5
}
