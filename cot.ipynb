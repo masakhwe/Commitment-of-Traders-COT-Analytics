{
 "cells": [
  {
   "cell_type": "code",
   "execution_count": 1,
   "id": "b878f347",
   "metadata": {},
   "outputs": [],
   "source": [
    "import pyspark\n",
    "from pyspark.sql import SparkSession\n",
    "from pyspark.conf import SparkConf\n",
    "from pyspark.context import SparkContext\n",
    "from pyspark.sql import functions as F\n",
    "from pyspark.sql import types\n",
    "\n",
    "import os\n",
    "import pandas as pd\n",
    "from dotenv import load_dotenv\n",
    "from datetime import datetime, date, timedelta"
   ]
  },
  {
   "cell_type": "code",
   "execution_count": 2,
   "id": "a6b3508b",
   "metadata": {},
   "outputs": [],
   "source": [
    "load_dotenv()\n",
    "credentials_location = os.getenv('GCP_CREDENTIALS_LOCATION')\n",
    "gcp_bucket_name = os.getenv('GCP_BUCKET')\n",
    "gcp_temporary_bucket = os.getenv('GCP_TEMP_BUCKET')\n",
    "PROJECT_ID = os.getenv('GCP_PROJECT_ID')"
   ]
  },
  {
   "cell_type": "code",
   "execution_count": 3,
   "id": "1de67d79",
   "metadata": {},
   "outputs": [],
   "source": [
    "def connection_setup():\n",
    "    \"\"\"\n",
    "    This function sets up the spark connection and reads the data from cloud storage\n",
    "    \"\"\"\n",
    "    #jar files\n",
    "    jar_1 = \"/Users/Manu/lib/spark-bigquery-with-dependencies_2.12-0.24.2.jar\"\n",
    "    jar_2 = \"/Users/Manu/lib/gcs-connector-hadoop3-2.2.5.jar\"\n",
    "    data_date = datetime.today().strftime('%Y-%m-%d')\n",
    "    \n",
    "    \n",
    "    # configuration\n",
    "    conf = SparkConf() \\\n",
    "    .setMaster('local[*]') \\\n",
    "    .setAppName('test') \\\n",
    "    .set(\"spark.jars\", f'{jar_1}, {jar_2}') \\\n",
    "    .set(\"spark.hadoop.google.cloud.auth.service.account.enable\", \"true\") \\\n",
    "    .set(\"spark.hadoop.google.cloud.auth.service.account.json.keyfile\", credentials_location)\n",
    "    \n",
    "    # context\n",
    "    sc = SparkContext(conf=conf)\n",
    "    hadoop_conf = sc._jsc.hadoopConfiguration()\n",
    "    hadoop_conf.set(\"fs.AbstractFileSystem.gs.impl\", \"com.google.cloud.hadoop.fs.gcs.GoogleHadoopFS\")\n",
    "    hadoop_conf.set(\"fs.gs.impl\", \"com.google.cloud.hadoop.fs.gcs.GoogleHadoopFileSystem\")\n",
    "    hadoop_conf.set(\"fs.gs.auth.service.account.json.keyfile\", credentials_location)\n",
    "    hadoop_conf.set(\"fs.gs.auth.service.account.enable\", 'true')\n",
    "    \n",
    "    # Session\n",
    "    spark = SparkSession.builder \\\n",
    "    .config(\"spark.jars.packages\", \"com.crealytics:spark-excel_2.11:0.12.2\", conf=sc.getConf()) \\\n",
    "    .getOrCreate()\n",
    "    \n",
    "    # Read the data\n",
    "    cot = spark.read \\\n",
    "        .option('header', 'true') \\\n",
    "        .csv(f'gs://{gcp_bucket_name}/raw/*') #_{data_date}.txt')\n",
    "    \n",
    "    return cot"
   ]
  },
  {
   "cell_type": "code",
   "execution_count": 4,
   "id": "28992a05",
   "metadata": {
    "scrolled": false
   },
   "outputs": [
    {
     "name": "stderr",
     "output_type": "stream",
     "text": [
      "22/06/10 17:44:29 WARN NativeCodeLoader: Unable to load native-hadoop library for your platform... using builtin-java classes where applicable\n",
      "Using Spark's default log4j profile: org/apache/spark/log4j-defaults.properties\n",
      "Setting default log level to \"WARN\".\n",
      "To adjust logging level use sc.setLogLevel(newLevel). For SparkR, use setLogLevel(newLevel).\n",
      "                                                                                \r"
     ]
    }
   ],
   "source": [
    "cot = connection_setup()"
   ]
  },
  {
   "cell_type": "code",
   "execution_count": 5,
   "id": "34771a36",
   "metadata": {},
   "outputs": [],
   "source": [
    "def get_latest_data(cot):\n",
    "    \"\"\"\n",
    "    This function fetches the most recent unprocessed data\n",
    "    \"\"\"\n",
    "#     report_date = date.today() - timedelta(days = 9)\n",
    "#     cot = cot.withColumn('Report_Date_as_YYYY-MM-DD', cot['Report_Date_as_YYYY-MM-DD'].cast(types.DateType()))\n",
    "#     cot = cot.filter(cot['Report_Date_as_YYYY-MM-DD'] >= report_date)\n",
    "    \n",
    "    return cot"
   ]
  },
  {
   "cell_type": "code",
   "execution_count": 6,
   "id": "acb205cf",
   "metadata": {},
   "outputs": [],
   "source": [
    "cot_filter = get_latest_data(cot)"
   ]
  },
  {
   "cell_type": "code",
   "execution_count": 7,
   "id": "151811e1",
   "metadata": {},
   "outputs": [
    {
     "name": "stderr",
     "output_type": "stream",
     "text": [
      "                                                                                \r"
     ]
    },
    {
     "data": {
      "text/plain": [
       "24551"
      ]
     },
     "execution_count": 7,
     "metadata": {},
     "output_type": "execute_result"
    }
   ],
   "source": [
    "cot_filter.count()\n",
    "#cot_filter.select(['Market_and_Exchange_Names', 'Report_Date_as_YYYY-MM-DD', 'Open_Interest_All']).show()"
   ]
  },
  {
   "cell_type": "code",
   "execution_count": 8,
   "id": "3d60f418",
   "metadata": {},
   "outputs": [],
   "source": [
    "def clean_columns(cot):        \n",
    "    # extract the numeric part of the contracts\n",
    "    # drop the As_of_Date_In_Form_YYMMDD column\n",
    "    cot_cols = cot.withColumn('Contract_Units', F.substring(cot['Contract_Units'], 19,7))\\\n",
    "                .drop('As_of_Date_In_Form_YYMMDD')\n",
    "    \n",
    "    # Make all columns lower case\n",
    "    for col in cot_cols.columns:\n",
    "        cot_cols = cot_cols.withColumnRenamed(col, col.lower())\n",
    "    \n",
    "    return cot_cols\n",
    "    "
   ]
  },
  {
   "cell_type": "code",
   "execution_count": 9,
   "id": "b72eaed7",
   "metadata": {},
   "outputs": [],
   "source": [
    "cot_df = clean_columns(cot)"
   ]
  },
  {
   "cell_type": "code",
   "execution_count": 10,
   "id": "54d5946c",
   "metadata": {},
   "outputs": [],
   "source": [
    "def add_schema(cot_df):\n",
    "    desired_schema = [\n",
    "    types.StringType(),types.DateType(),types.StringType(),types.StringType(),types.StringType(),types.StringType(),\n",
    "    types.IntegerType(),types.IntegerType(),types.IntegerType(),types.IntegerType(),types.IntegerType(),\n",
    "    types.IntegerType(),types.IntegerType(),types.IntegerType(),types.IntegerType(),types.IntegerType(),\n",
    "    types.IntegerType(),types.IntegerType(),types.IntegerType(),types.IntegerType(),types.IntegerType(),\n",
    "    types.IntegerType(),types.IntegerType(),types.IntegerType(),types.IntegerType(),types.IntegerType(),\n",
    "    types.IntegerType(),types.IntegerType(),types.IntegerType(),types.IntegerType(),types.IntegerType(),\n",
    "    types.IntegerType(),types.IntegerType(),types.IntegerType(),types.IntegerType(),types.IntegerType(),\n",
    "    types.IntegerType(),types.IntegerType(),types.IntegerType(),types.IntegerType(),types.IntegerType(),\n",
    "    types.FloatType(),types.FloatType(),types.FloatType(),types.FloatType(),types.FloatType(),types.FloatType(),\n",
    "    types.FloatType(),types.FloatType(),types.FloatType(),types.FloatType(),types.FloatType(),types.FloatType(),\n",
    "    types.FloatType(),types.FloatType(),types.FloatType(),types.FloatType(),types.IntegerType(),types.IntegerType(),\n",
    "    types.IntegerType(),types.IntegerType(),types.IntegerType(),types.IntegerType(),types.IntegerType(),\n",
    "    types.IntegerType(),types.IntegerType(),types.IntegerType(),types.IntegerType(),types.IntegerType(),\n",
    "    types.IntegerType(),types.StringType(),types.StringType(),types.FloatType(),types.FloatType(),types.FloatType(),\n",
    "    types.FloatType(),types.FloatType(),types.FloatType(),types.FloatType(),types.FloatType(),types.StringType(),\n",
    "    types.StringType(),types.StringType(),types.StringType(),types.StringType(),types.StringType()\n",
    "    ]\n",
    "    \n",
    "    for idx, col in enumerate(cot_df.columns):\n",
    "        for idx_s, dtype in enumerate(desired_schema):\n",
    "            if idx == idx_s:\n",
    "                cot_df = cot_df.withColumn(col, cot_df[col].cast(dtype))\n",
    "            else:\n",
    "                pass\n",
    "            \n",
    "    return cot_df"
   ]
  },
  {
   "cell_type": "code",
   "execution_count": 11,
   "id": "49c41320",
   "metadata": {},
   "outputs": [],
   "source": [
    "cot_schema = add_schema(cot_df)"
   ]
  },
  {
   "cell_type": "code",
   "execution_count": 12,
   "id": "77c57b88",
   "metadata": {},
   "outputs": [],
   "source": [
    "def write_to_parquet(cot_schema):\n",
    "    cot_schema.write.parquet(f'gs://{gcp_bucket_name}/cleaned/pq', mode='overwrite')\n",
    "    return cot_schema"
   ]
  },
  {
   "cell_type": "code",
   "execution_count": 13,
   "id": "91d89958",
   "metadata": {},
   "outputs": [
    {
     "name": "stderr",
     "output_type": "stream",
     "text": [
      "22/06/10 17:45:29 WARN package: Truncated the string representation of a plan since it was too large. This behavior can be adjusted by setting 'spark.sql.debug.maxToStringFields'.\n",
      "22/06/10 17:45:53 WARN CSVHeaderChecker: CSV header does not conform to the schema.\n",
      " Header: Market_and_Exchange_Names, Report_Date_as_MM_DD_YYYY, CFTC_Contract_Market_Code, CFTC_Market_Code, CFTC_Region_Code, CFTC_Commodity_Code, Open_Interest_All, Dealer_Positions_Long_All, Dealer_Positions_Short_All, Dealer_Positions_Spread_All, Asset_Mgr_Positions_Long_All, Asset_Mgr_Positions_Short_All, Asset_Mgr_Positions_Spread_All, Lev_Money_Positions_Long_All, Lev_Money_Positions_Short_All, Lev_Money_Positions_Spread_All, Other_Rept_Positions_Long_All, Other_Rept_Positions_Short_All, Other_Rept_Positions_Spread_All, Tot_Rept_Positions_Long_All, Tot_Rept_Positions_Short_All, NonRept_Positions_Long_All, NonRept_Positions_Short_All, Change_in_Open_Interest_All, Change_in_Dealer_Long_All, Change_in_Dealer_Short_All, Change_in_Dealer_Spread_All, Change_in_Asset_Mgr_Long_All, Change_in_Asset_Mgr_Short_All, Change_in_Asset_Mgr_Spread_All, Change_in_Lev_Money_Long_All, Change_in_Lev_Money_Short_All, Change_in_Lev_Money_Spread_All, Change_in_Other_Rept_Long_All, Change_in_Other_Rept_Short_All, Change_in_Other_Rept_Spread_All, Change_in_Tot_Rept_Long_All, Change_in_Tot_Rept_Short_All, Change_in_NonRept_Long_All, Change_in_NonRept_Short_All, Pct_of_Open_Interest_All, Pct_of_OI_Dealer_Long_All, Pct_of_OI_Dealer_Short_All, Pct_of_OI_Dealer_Spread_All, Pct_of_OI_Asset_Mgr_Long_All, Pct_of_OI_Asset_Mgr_Short_All, Pct_of_OI_Asset_Mgr_Spread_All, Pct_of_OI_Lev_Money_Long_All, Pct_of_OI_Lev_Money_Short_All, Pct_of_OI_Lev_Money_Spread_All, Pct_of_OI_Other_Rept_Long_All, Pct_of_OI_Other_Rept_Short_All, Pct_of_OI_Other_Rept_Spread_All, Pct_of_OI_Tot_Rept_Long_All, Pct_of_OI_Tot_Rept_Short_All, Pct_of_OI_NonRept_Long_All, Pct_of_OI_NonRept_Short_All, Traders_Tot_All, Traders_Dealer_Long_All, Traders_Dealer_Short_All, Traders_Dealer_Spread_All, Traders_Asset_Mgr_Long_All, Traders_Asset_Mgr_Short_All, Traders_Asset_Mgr_Spread_All, Traders_Lev_Money_Long_All, Traders_Lev_Money_Short_All, Traders_Lev_Money_Spread_All, Traders_Other_Rept_Long_All, Traders_Other_Rept_Short_All, Traders_Other_Rept_Spread_All, Traders_Tot_Rept_Long_All, Traders_Tot_Rept_Short_All, Conc_Gross_LE_4_TDR_Long_All, Conc_Gross_LE_4_TDR_Short_All, Conc_Gross_LE_8_TDR_Long_All, Conc_Gross_LE_8_TDR_Short_All, Conc_Net_LE_4_TDR_Long_All, Conc_Net_LE_4_TDR_Short_All, Conc_Net_LE_8_TDR_Long_All, Conc_Net_LE_8_TDR_Short_All, Contract_Units, CFTC_Contract_Market_Code_Quotes, CFTC_Market_Code_Quotes, CFTC_Commodity_Code_Quotes, CFTC_SubGroup_Code, FutOnly_or_Combined\n",
      " Schema: Market_and_Exchange_Names, Report_Date_as_YYYY-MM-DD, CFTC_Contract_Market_Code, CFTC_Market_Code, CFTC_Region_Code, CFTC_Commodity_Code, Open_Interest_All, Dealer_Positions_Long_All, Dealer_Positions_Short_All, Dealer_Positions_Spread_All, Asset_Mgr_Positions_Long_All, Asset_Mgr_Positions_Short_All, Asset_Mgr_Positions_Spread_All, Lev_Money_Positions_Long_All, Lev_Money_Positions_Short_All, Lev_Money_Positions_Spread_All, Other_Rept_Positions_Long_All, Other_Rept_Positions_Short_All, Other_Rept_Positions_Spread_All, Tot_Rept_Positions_Long_All, Tot_Rept_Positions_Short_All, NonRept_Positions_Long_All, NonRept_Positions_Short_All, Change_in_Open_Interest_All, Change_in_Dealer_Long_All, Change_in_Dealer_Short_All, Change_in_Dealer_Spread_All, Change_in_Asset_Mgr_Long_All, Change_in_Asset_Mgr_Short_All, Change_in_Asset_Mgr_Spread_All, Change_in_Lev_Money_Long_All, Change_in_Lev_Money_Short_All, Change_in_Lev_Money_Spread_All, Change_in_Other_Rept_Long_All, Change_in_Other_Rept_Short_All, Change_in_Other_Rept_Spread_All, Change_in_Tot_Rept_Long_All, Change_in_Tot_Rept_Short_All, Change_in_NonRept_Long_All, Change_in_NonRept_Short_All, Pct_of_Open_Interest_All, Pct_of_OI_Dealer_Long_All, Pct_of_OI_Dealer_Short_All, Pct_of_OI_Dealer_Spread_All, Pct_of_OI_Asset_Mgr_Long_All, Pct_of_OI_Asset_Mgr_Short_All, Pct_of_OI_Asset_Mgr_Spread_All, Pct_of_OI_Lev_Money_Long_All, Pct_of_OI_Lev_Money_Short_All, Pct_of_OI_Lev_Money_Spread_All, Pct_of_OI_Other_Rept_Long_All, Pct_of_OI_Other_Rept_Short_All, Pct_of_OI_Other_Rept_Spread_All, Pct_of_OI_Tot_Rept_Long_All, Pct_of_OI_Tot_Rept_Short_All, Pct_of_OI_NonRept_Long_All, Pct_of_OI_NonRept_Short_All, Traders_Tot_All, Traders_Dealer_Long_All, Traders_Dealer_Short_All, Traders_Dealer_Spread_All, Traders_Asset_Mgr_Long_All, Traders_Asset_Mgr_Short_All, Traders_Asset_Mgr_Spread_All, Traders_Lev_Money_Long_All, Traders_Lev_Money_Short_All, Traders_Lev_Money_Spread_All, Traders_Other_Rept_Long_All, Traders_Other_Rept_Short_All, Traders_Other_Rept_Spread_All, Traders_Tot_Rept_Long_All, Traders_Tot_Rept_Short_All, Conc_Gross_LE_4_TDR_Long_All, Conc_Gross_LE_4_TDR_Short_All, Conc_Gross_LE_8_TDR_Long_All, Conc_Gross_LE_8_TDR_Short_All, Conc_Net_LE_4_TDR_Long_All, Conc_Net_LE_4_TDR_Short_All, Conc_Net_LE_8_TDR_Long_All, Conc_Net_LE_8_TDR_Short_All, Contract_Units, CFTC_Contract_Market_Code_Quotes, CFTC_Market_Code_Quotes, CFTC_Commodity_Code_Quotes, CFTC_SubGroup_Code, FutOnly_or_Combined\n",
      "Expected: Report_Date_as_YYYY-MM-DD but found: Report_Date_as_MM_DD_YYYY\n",
      "CSV file: gs://commitment-of-traders-350613/raw/cot_reports_2012-01-01.txt\n",
      "22/06/10 17:45:58 WARN CSVHeaderChecker: CSV header does not conform to the schema.\n",
      " Header: Market_and_Exchange_Names, Report_Date_as_MM_DD_YYYY, CFTC_Contract_Market_Code, CFTC_Market_Code, CFTC_Region_Code, CFTC_Commodity_Code, Open_Interest_All, Dealer_Positions_Long_All, Dealer_Positions_Short_All, Dealer_Positions_Spread_All, Asset_Mgr_Positions_Long_All, Asset_Mgr_Positions_Short_All, Asset_Mgr_Positions_Spread_All, Lev_Money_Positions_Long_All, Lev_Money_Positions_Short_All, Lev_Money_Positions_Spread_All, Other_Rept_Positions_Long_All, Other_Rept_Positions_Short_All, Other_Rept_Positions_Spread_All, Tot_Rept_Positions_Long_All, Tot_Rept_Positions_Short_All, NonRept_Positions_Long_All, NonRept_Positions_Short_All, Change_in_Open_Interest_All, Change_in_Dealer_Long_All, Change_in_Dealer_Short_All, Change_in_Dealer_Spread_All, Change_in_Asset_Mgr_Long_All, Change_in_Asset_Mgr_Short_All, Change_in_Asset_Mgr_Spread_All, Change_in_Lev_Money_Long_All, Change_in_Lev_Money_Short_All, Change_in_Lev_Money_Spread_All, Change_in_Other_Rept_Long_All, Change_in_Other_Rept_Short_All, Change_in_Other_Rept_Spread_All, Change_in_Tot_Rept_Long_All, Change_in_Tot_Rept_Short_All, Change_in_NonRept_Long_All, Change_in_NonRept_Short_All, Pct_of_Open_Interest_All, Pct_of_OI_Dealer_Long_All, Pct_of_OI_Dealer_Short_All, Pct_of_OI_Dealer_Spread_All, Pct_of_OI_Asset_Mgr_Long_All, Pct_of_OI_Asset_Mgr_Short_All, Pct_of_OI_Asset_Mgr_Spread_All, Pct_of_OI_Lev_Money_Long_All, Pct_of_OI_Lev_Money_Short_All, Pct_of_OI_Lev_Money_Spread_All, Pct_of_OI_Other_Rept_Long_All, Pct_of_OI_Other_Rept_Short_All, Pct_of_OI_Other_Rept_Spread_All, Pct_of_OI_Tot_Rept_Long_All, Pct_of_OI_Tot_Rept_Short_All, Pct_of_OI_NonRept_Long_All, Pct_of_OI_NonRept_Short_All, Traders_Tot_All, Traders_Dealer_Long_All, Traders_Dealer_Short_All, Traders_Dealer_Spread_All, Traders_Asset_Mgr_Long_All, Traders_Asset_Mgr_Short_All, Traders_Asset_Mgr_Spread_All, Traders_Lev_Money_Long_All, Traders_Lev_Money_Short_All, Traders_Lev_Money_Spread_All, Traders_Other_Rept_Long_All, Traders_Other_Rept_Short_All, Traders_Other_Rept_Spread_All, Traders_Tot_Rept_Long_All, Traders_Tot_Rept_Short_All, Conc_Gross_LE_4_TDR_Long_All, Conc_Gross_LE_4_TDR_Short_All, Conc_Gross_LE_8_TDR_Long_All, Conc_Gross_LE_8_TDR_Short_All, Conc_Net_LE_4_TDR_Long_All, Conc_Net_LE_4_TDR_Short_All, Conc_Net_LE_8_TDR_Long_All, Conc_Net_LE_8_TDR_Short_All, Contract_Units, CFTC_Contract_Market_Code_Quotes, CFTC_Market_Code_Quotes, CFTC_Commodity_Code_Quotes, CFTC_SubGroup_Code, FutOnly_or_Combined\n",
      " Schema: Market_and_Exchange_Names, Report_Date_as_YYYY-MM-DD, CFTC_Contract_Market_Code, CFTC_Market_Code, CFTC_Region_Code, CFTC_Commodity_Code, Open_Interest_All, Dealer_Positions_Long_All, Dealer_Positions_Short_All, Dealer_Positions_Spread_All, Asset_Mgr_Positions_Long_All, Asset_Mgr_Positions_Short_All, Asset_Mgr_Positions_Spread_All, Lev_Money_Positions_Long_All, Lev_Money_Positions_Short_All, Lev_Money_Positions_Spread_All, Other_Rept_Positions_Long_All, Other_Rept_Positions_Short_All, Other_Rept_Positions_Spread_All, Tot_Rept_Positions_Long_All, Tot_Rept_Positions_Short_All, NonRept_Positions_Long_All, NonRept_Positions_Short_All, Change_in_Open_Interest_All, Change_in_Dealer_Long_All, Change_in_Dealer_Short_All, Change_in_Dealer_Spread_All, Change_in_Asset_Mgr_Long_All, Change_in_Asset_Mgr_Short_All, Change_in_Asset_Mgr_Spread_All, Change_in_Lev_Money_Long_All, Change_in_Lev_Money_Short_All, Change_in_Lev_Money_Spread_All, Change_in_Other_Rept_Long_All, Change_in_Other_Rept_Short_All, Change_in_Other_Rept_Spread_All, Change_in_Tot_Rept_Long_All, Change_in_Tot_Rept_Short_All, Change_in_NonRept_Long_All, Change_in_NonRept_Short_All, Pct_of_Open_Interest_All, Pct_of_OI_Dealer_Long_All, Pct_of_OI_Dealer_Short_All, Pct_of_OI_Dealer_Spread_All, Pct_of_OI_Asset_Mgr_Long_All, Pct_of_OI_Asset_Mgr_Short_All, Pct_of_OI_Asset_Mgr_Spread_All, Pct_of_OI_Lev_Money_Long_All, Pct_of_OI_Lev_Money_Short_All, Pct_of_OI_Lev_Money_Spread_All, Pct_of_OI_Other_Rept_Long_All, Pct_of_OI_Other_Rept_Short_All, Pct_of_OI_Other_Rept_Spread_All, Pct_of_OI_Tot_Rept_Long_All, Pct_of_OI_Tot_Rept_Short_All, Pct_of_OI_NonRept_Long_All, Pct_of_OI_NonRept_Short_All, Traders_Tot_All, Traders_Dealer_Long_All, Traders_Dealer_Short_All, Traders_Dealer_Spread_All, Traders_Asset_Mgr_Long_All, Traders_Asset_Mgr_Short_All, Traders_Asset_Mgr_Spread_All, Traders_Lev_Money_Long_All, Traders_Lev_Money_Short_All, Traders_Lev_Money_Spread_All, Traders_Other_Rept_Long_All, Traders_Other_Rept_Short_All, Traders_Other_Rept_Spread_All, Traders_Tot_Rept_Long_All, Traders_Tot_Rept_Short_All, Conc_Gross_LE_4_TDR_Long_All, Conc_Gross_LE_4_TDR_Short_All, Conc_Gross_LE_8_TDR_Long_All, Conc_Gross_LE_8_TDR_Short_All, Conc_Net_LE_4_TDR_Long_All, Conc_Net_LE_4_TDR_Short_All, Conc_Net_LE_8_TDR_Long_All, Conc_Net_LE_8_TDR_Short_All, Contract_Units, CFTC_Contract_Market_Code_Quotes, CFTC_Market_Code_Quotes, CFTC_Commodity_Code_Quotes, CFTC_SubGroup_Code, FutOnly_or_Combined\n",
      "Expected: Report_Date_as_YYYY-MM-DD but found: Report_Date_as_MM_DD_YYYY\n",
      "CSV file: gs://commitment-of-traders-350613/raw/cot_reports_2011-01-01.txt\n"
     ]
    },
    {
     "name": "stderr",
     "output_type": "stream",
     "text": [
      "                                                                                \r"
     ]
    },
    {
     "data": {
      "text/plain": [
       "DataFrame[market_and_exchange_names: string, report_date_as_yyyy-mm-dd: date, cftc_contract_market_code: string, cftc_market_code: string, cftc_region_code: string, cftc_commodity_code: string, open_interest_all: int, dealer_positions_long_all: int, dealer_positions_short_all: int, dealer_positions_spread_all: int, asset_mgr_positions_long_all: int, asset_mgr_positions_short_all: int, asset_mgr_positions_spread_all: int, lev_money_positions_long_all: int, lev_money_positions_short_all: int, lev_money_positions_spread_all: int, other_rept_positions_long_all: int, other_rept_positions_short_all: int, other_rept_positions_spread_all: int, tot_rept_positions_long_all: int, tot_rept_positions_short_all: int, nonrept_positions_long_all: int, nonrept_positions_short_all: int, change_in_open_interest_all: int, change_in_dealer_long_all: int, change_in_dealer_short_all: int, change_in_dealer_spread_all: int, change_in_asset_mgr_long_all: int, change_in_asset_mgr_short_all: int, change_in_asset_mgr_spread_all: int, change_in_lev_money_long_all: int, change_in_lev_money_short_all: int, change_in_lev_money_spread_all: int, change_in_other_rept_long_all: int, change_in_other_rept_short_all: int, change_in_other_rept_spread_all: int, change_in_tot_rept_long_all: int, change_in_tot_rept_short_all: int, change_in_nonrept_long_all: int, change_in_nonrept_short_all: int, pct_of_open_interest_all: int, pct_of_oi_dealer_long_all: float, pct_of_oi_dealer_short_all: float, pct_of_oi_dealer_spread_all: float, pct_of_oi_asset_mgr_long_all: float, pct_of_oi_asset_mgr_short_all: float, pct_of_oi_asset_mgr_spread_all: float, pct_of_oi_lev_money_long_all: float, pct_of_oi_lev_money_short_all: float, pct_of_oi_lev_money_spread_all: float, pct_of_oi_other_rept_long_all: float, pct_of_oi_other_rept_short_all: float, pct_of_oi_other_rept_spread_all: float, pct_of_oi_tot_rept_long_all: float, pct_of_oi_tot_rept_short_all: float, pct_of_oi_nonrept_long_all: float, pct_of_oi_nonrept_short_all: float, traders_tot_all: int, traders_dealer_long_all: int, traders_dealer_short_all: int, traders_dealer_spread_all: int, traders_asset_mgr_long_all: int, traders_asset_mgr_short_all: int, traders_asset_mgr_spread_all: int, traders_lev_money_long_all: int, traders_lev_money_short_all: int, traders_lev_money_spread_all: int, traders_other_rept_long_all: int, traders_other_rept_short_all: int, traders_other_rept_spread_all: int, traders_tot_rept_long_all: string, traders_tot_rept_short_all: string, conc_gross_le_4_tdr_long_all: float, conc_gross_le_4_tdr_short_all: float, conc_gross_le_8_tdr_long_all: float, conc_gross_le_8_tdr_short_all: float, conc_net_le_4_tdr_long_all: float, conc_net_le_4_tdr_short_all: float, conc_net_le_8_tdr_long_all: float, conc_net_le_8_tdr_short_all: float, contract_units: string, cftc_contract_market_code_quotes: string, cftc_market_code_quotes: string, cftc_commodity_code_quotes: string, cftc_subgroup_code: string, futonly_or_combined: string]"
      ]
     },
     "execution_count": 13,
     "metadata": {},
     "output_type": "execute_result"
    }
   ],
   "source": [
    "write_to_parquet(cot_schema)"
   ]
  },
  {
   "cell_type": "code",
   "execution_count": 16,
   "id": "94126ff2",
   "metadata": {},
   "outputs": [],
   "source": [
    "def write_to_bigquery(cot_schema):\n",
    "    cot_schema.write \\\n",
    "                .format('bigquery') \\\n",
    "                .option('project', PROJECT_ID) \\\n",
    "                .option('parentProject', PROJECT_ID) \\\n",
    "                .option('table', 'committment_of_traders.cot') \\\n",
    "                .option(\"temporaryGcsBucket\",f\"{gcp_temporary_bucket}\") \\\n",
    "                .mode('overwrite') \\\n",
    "                .save()\n",
    "    "
   ]
  },
  {
   "cell_type": "code",
   "execution_count": 17,
   "id": "b90c1767",
   "metadata": {},
   "outputs": [
    {
     "name": "stderr",
     "output_type": "stream",
     "text": [
      "22/06/10 17:53:25 WARN CSVHeaderChecker: CSV header does not conform to the schema.\n",
      " Header: Market_and_Exchange_Names, Report_Date_as_MM_DD_YYYY, CFTC_Contract_Market_Code, CFTC_Market_Code, CFTC_Region_Code, CFTC_Commodity_Code, Open_Interest_All, Dealer_Positions_Long_All, Dealer_Positions_Short_All, Dealer_Positions_Spread_All, Asset_Mgr_Positions_Long_All, Asset_Mgr_Positions_Short_All, Asset_Mgr_Positions_Spread_All, Lev_Money_Positions_Long_All, Lev_Money_Positions_Short_All, Lev_Money_Positions_Spread_All, Other_Rept_Positions_Long_All, Other_Rept_Positions_Short_All, Other_Rept_Positions_Spread_All, Tot_Rept_Positions_Long_All, Tot_Rept_Positions_Short_All, NonRept_Positions_Long_All, NonRept_Positions_Short_All, Change_in_Open_Interest_All, Change_in_Dealer_Long_All, Change_in_Dealer_Short_All, Change_in_Dealer_Spread_All, Change_in_Asset_Mgr_Long_All, Change_in_Asset_Mgr_Short_All, Change_in_Asset_Mgr_Spread_All, Change_in_Lev_Money_Long_All, Change_in_Lev_Money_Short_All, Change_in_Lev_Money_Spread_All, Change_in_Other_Rept_Long_All, Change_in_Other_Rept_Short_All, Change_in_Other_Rept_Spread_All, Change_in_Tot_Rept_Long_All, Change_in_Tot_Rept_Short_All, Change_in_NonRept_Long_All, Change_in_NonRept_Short_All, Pct_of_Open_Interest_All, Pct_of_OI_Dealer_Long_All, Pct_of_OI_Dealer_Short_All, Pct_of_OI_Dealer_Spread_All, Pct_of_OI_Asset_Mgr_Long_All, Pct_of_OI_Asset_Mgr_Short_All, Pct_of_OI_Asset_Mgr_Spread_All, Pct_of_OI_Lev_Money_Long_All, Pct_of_OI_Lev_Money_Short_All, Pct_of_OI_Lev_Money_Spread_All, Pct_of_OI_Other_Rept_Long_All, Pct_of_OI_Other_Rept_Short_All, Pct_of_OI_Other_Rept_Spread_All, Pct_of_OI_Tot_Rept_Long_All, Pct_of_OI_Tot_Rept_Short_All, Pct_of_OI_NonRept_Long_All, Pct_of_OI_NonRept_Short_All, Traders_Tot_All, Traders_Dealer_Long_All, Traders_Dealer_Short_All, Traders_Dealer_Spread_All, Traders_Asset_Mgr_Long_All, Traders_Asset_Mgr_Short_All, Traders_Asset_Mgr_Spread_All, Traders_Lev_Money_Long_All, Traders_Lev_Money_Short_All, Traders_Lev_Money_Spread_All, Traders_Other_Rept_Long_All, Traders_Other_Rept_Short_All, Traders_Other_Rept_Spread_All, Traders_Tot_Rept_Long_All, Traders_Tot_Rept_Short_All, Conc_Gross_LE_4_TDR_Long_All, Conc_Gross_LE_4_TDR_Short_All, Conc_Gross_LE_8_TDR_Long_All, Conc_Gross_LE_8_TDR_Short_All, Conc_Net_LE_4_TDR_Long_All, Conc_Net_LE_4_TDR_Short_All, Conc_Net_LE_8_TDR_Long_All, Conc_Net_LE_8_TDR_Short_All, Contract_Units, CFTC_Contract_Market_Code_Quotes, CFTC_Market_Code_Quotes, CFTC_Commodity_Code_Quotes, CFTC_SubGroup_Code, FutOnly_or_Combined\n",
      " Schema: Market_and_Exchange_Names, Report_Date_as_YYYY-MM-DD, CFTC_Contract_Market_Code, CFTC_Market_Code, CFTC_Region_Code, CFTC_Commodity_Code, Open_Interest_All, Dealer_Positions_Long_All, Dealer_Positions_Short_All, Dealer_Positions_Spread_All, Asset_Mgr_Positions_Long_All, Asset_Mgr_Positions_Short_All, Asset_Mgr_Positions_Spread_All, Lev_Money_Positions_Long_All, Lev_Money_Positions_Short_All, Lev_Money_Positions_Spread_All, Other_Rept_Positions_Long_All, Other_Rept_Positions_Short_All, Other_Rept_Positions_Spread_All, Tot_Rept_Positions_Long_All, Tot_Rept_Positions_Short_All, NonRept_Positions_Long_All, NonRept_Positions_Short_All, Change_in_Open_Interest_All, Change_in_Dealer_Long_All, Change_in_Dealer_Short_All, Change_in_Dealer_Spread_All, Change_in_Asset_Mgr_Long_All, Change_in_Asset_Mgr_Short_All, Change_in_Asset_Mgr_Spread_All, Change_in_Lev_Money_Long_All, Change_in_Lev_Money_Short_All, Change_in_Lev_Money_Spread_All, Change_in_Other_Rept_Long_All, Change_in_Other_Rept_Short_All, Change_in_Other_Rept_Spread_All, Change_in_Tot_Rept_Long_All, Change_in_Tot_Rept_Short_All, Change_in_NonRept_Long_All, Change_in_NonRept_Short_All, Pct_of_Open_Interest_All, Pct_of_OI_Dealer_Long_All, Pct_of_OI_Dealer_Short_All, Pct_of_OI_Dealer_Spread_All, Pct_of_OI_Asset_Mgr_Long_All, Pct_of_OI_Asset_Mgr_Short_All, Pct_of_OI_Asset_Mgr_Spread_All, Pct_of_OI_Lev_Money_Long_All, Pct_of_OI_Lev_Money_Short_All, Pct_of_OI_Lev_Money_Spread_All, Pct_of_OI_Other_Rept_Long_All, Pct_of_OI_Other_Rept_Short_All, Pct_of_OI_Other_Rept_Spread_All, Pct_of_OI_Tot_Rept_Long_All, Pct_of_OI_Tot_Rept_Short_All, Pct_of_OI_NonRept_Long_All, Pct_of_OI_NonRept_Short_All, Traders_Tot_All, Traders_Dealer_Long_All, Traders_Dealer_Short_All, Traders_Dealer_Spread_All, Traders_Asset_Mgr_Long_All, Traders_Asset_Mgr_Short_All, Traders_Asset_Mgr_Spread_All, Traders_Lev_Money_Long_All, Traders_Lev_Money_Short_All, Traders_Lev_Money_Spread_All, Traders_Other_Rept_Long_All, Traders_Other_Rept_Short_All, Traders_Other_Rept_Spread_All, Traders_Tot_Rept_Long_All, Traders_Tot_Rept_Short_All, Conc_Gross_LE_4_TDR_Long_All, Conc_Gross_LE_4_TDR_Short_All, Conc_Gross_LE_8_TDR_Long_All, Conc_Gross_LE_8_TDR_Short_All, Conc_Net_LE_4_TDR_Long_All, Conc_Net_LE_4_TDR_Short_All, Conc_Net_LE_8_TDR_Long_All, Conc_Net_LE_8_TDR_Short_All, Contract_Units, CFTC_Contract_Market_Code_Quotes, CFTC_Market_Code_Quotes, CFTC_Commodity_Code_Quotes, CFTC_SubGroup_Code, FutOnly_or_Combined\n",
      "Expected: Report_Date_as_YYYY-MM-DD but found: Report_Date_as_MM_DD_YYYY\n",
      "CSV file: gs://commitment-of-traders-350613/raw/cot_reports_2011-01-01.txt\n",
      "22/06/10 17:53:36 WARN CSVHeaderChecker: CSV header does not conform to the schema.\n",
      " Header: Market_and_Exchange_Names, Report_Date_as_MM_DD_YYYY, CFTC_Contract_Market_Code, CFTC_Market_Code, CFTC_Region_Code, CFTC_Commodity_Code, Open_Interest_All, Dealer_Positions_Long_All, Dealer_Positions_Short_All, Dealer_Positions_Spread_All, Asset_Mgr_Positions_Long_All, Asset_Mgr_Positions_Short_All, Asset_Mgr_Positions_Spread_All, Lev_Money_Positions_Long_All, Lev_Money_Positions_Short_All, Lev_Money_Positions_Spread_All, Other_Rept_Positions_Long_All, Other_Rept_Positions_Short_All, Other_Rept_Positions_Spread_All, Tot_Rept_Positions_Long_All, Tot_Rept_Positions_Short_All, NonRept_Positions_Long_All, NonRept_Positions_Short_All, Change_in_Open_Interest_All, Change_in_Dealer_Long_All, Change_in_Dealer_Short_All, Change_in_Dealer_Spread_All, Change_in_Asset_Mgr_Long_All, Change_in_Asset_Mgr_Short_All, Change_in_Asset_Mgr_Spread_All, Change_in_Lev_Money_Long_All, Change_in_Lev_Money_Short_All, Change_in_Lev_Money_Spread_All, Change_in_Other_Rept_Long_All, Change_in_Other_Rept_Short_All, Change_in_Other_Rept_Spread_All, Change_in_Tot_Rept_Long_All, Change_in_Tot_Rept_Short_All, Change_in_NonRept_Long_All, Change_in_NonRept_Short_All, Pct_of_Open_Interest_All, Pct_of_OI_Dealer_Long_All, Pct_of_OI_Dealer_Short_All, Pct_of_OI_Dealer_Spread_All, Pct_of_OI_Asset_Mgr_Long_All, Pct_of_OI_Asset_Mgr_Short_All, Pct_of_OI_Asset_Mgr_Spread_All, Pct_of_OI_Lev_Money_Long_All, Pct_of_OI_Lev_Money_Short_All, Pct_of_OI_Lev_Money_Spread_All, Pct_of_OI_Other_Rept_Long_All, Pct_of_OI_Other_Rept_Short_All, Pct_of_OI_Other_Rept_Spread_All, Pct_of_OI_Tot_Rept_Long_All, Pct_of_OI_Tot_Rept_Short_All, Pct_of_OI_NonRept_Long_All, Pct_of_OI_NonRept_Short_All, Traders_Tot_All, Traders_Dealer_Long_All, Traders_Dealer_Short_All, Traders_Dealer_Spread_All, Traders_Asset_Mgr_Long_All, Traders_Asset_Mgr_Short_All, Traders_Asset_Mgr_Spread_All, Traders_Lev_Money_Long_All, Traders_Lev_Money_Short_All, Traders_Lev_Money_Spread_All, Traders_Other_Rept_Long_All, Traders_Other_Rept_Short_All, Traders_Other_Rept_Spread_All, Traders_Tot_Rept_Long_All, Traders_Tot_Rept_Short_All, Conc_Gross_LE_4_TDR_Long_All, Conc_Gross_LE_4_TDR_Short_All, Conc_Gross_LE_8_TDR_Long_All, Conc_Gross_LE_8_TDR_Short_All, Conc_Net_LE_4_TDR_Long_All, Conc_Net_LE_4_TDR_Short_All, Conc_Net_LE_8_TDR_Long_All, Conc_Net_LE_8_TDR_Short_All, Contract_Units, CFTC_Contract_Market_Code_Quotes, CFTC_Market_Code_Quotes, CFTC_Commodity_Code_Quotes, CFTC_SubGroup_Code, FutOnly_or_Combined\n",
      " Schema: Market_and_Exchange_Names, Report_Date_as_YYYY-MM-DD, CFTC_Contract_Market_Code, CFTC_Market_Code, CFTC_Region_Code, CFTC_Commodity_Code, Open_Interest_All, Dealer_Positions_Long_All, Dealer_Positions_Short_All, Dealer_Positions_Spread_All, Asset_Mgr_Positions_Long_All, Asset_Mgr_Positions_Short_All, Asset_Mgr_Positions_Spread_All, Lev_Money_Positions_Long_All, Lev_Money_Positions_Short_All, Lev_Money_Positions_Spread_All, Other_Rept_Positions_Long_All, Other_Rept_Positions_Short_All, Other_Rept_Positions_Spread_All, Tot_Rept_Positions_Long_All, Tot_Rept_Positions_Short_All, NonRept_Positions_Long_All, NonRept_Positions_Short_All, Change_in_Open_Interest_All, Change_in_Dealer_Long_All, Change_in_Dealer_Short_All, Change_in_Dealer_Spread_All, Change_in_Asset_Mgr_Long_All, Change_in_Asset_Mgr_Short_All, Change_in_Asset_Mgr_Spread_All, Change_in_Lev_Money_Long_All, Change_in_Lev_Money_Short_All, Change_in_Lev_Money_Spread_All, Change_in_Other_Rept_Long_All, Change_in_Other_Rept_Short_All, Change_in_Other_Rept_Spread_All, Change_in_Tot_Rept_Long_All, Change_in_Tot_Rept_Short_All, Change_in_NonRept_Long_All, Change_in_NonRept_Short_All, Pct_of_Open_Interest_All, Pct_of_OI_Dealer_Long_All, Pct_of_OI_Dealer_Short_All, Pct_of_OI_Dealer_Spread_All, Pct_of_OI_Asset_Mgr_Long_All, Pct_of_OI_Asset_Mgr_Short_All, Pct_of_OI_Asset_Mgr_Spread_All, Pct_of_OI_Lev_Money_Long_All, Pct_of_OI_Lev_Money_Short_All, Pct_of_OI_Lev_Money_Spread_All, Pct_of_OI_Other_Rept_Long_All, Pct_of_OI_Other_Rept_Short_All, Pct_of_OI_Other_Rept_Spread_All, Pct_of_OI_Tot_Rept_Long_All, Pct_of_OI_Tot_Rept_Short_All, Pct_of_OI_NonRept_Long_All, Pct_of_OI_NonRept_Short_All, Traders_Tot_All, Traders_Dealer_Long_All, Traders_Dealer_Short_All, Traders_Dealer_Spread_All, Traders_Asset_Mgr_Long_All, Traders_Asset_Mgr_Short_All, Traders_Asset_Mgr_Spread_All, Traders_Lev_Money_Long_All, Traders_Lev_Money_Short_All, Traders_Lev_Money_Spread_All, Traders_Other_Rept_Long_All, Traders_Other_Rept_Short_All, Traders_Other_Rept_Spread_All, Traders_Tot_Rept_Long_All, Traders_Tot_Rept_Short_All, Conc_Gross_LE_4_TDR_Long_All, Conc_Gross_LE_4_TDR_Short_All, Conc_Gross_LE_8_TDR_Long_All, Conc_Gross_LE_8_TDR_Short_All, Conc_Net_LE_4_TDR_Long_All, Conc_Net_LE_4_TDR_Short_All, Conc_Net_LE_8_TDR_Long_All, Conc_Net_LE_8_TDR_Short_All, Contract_Units, CFTC_Contract_Market_Code_Quotes, CFTC_Market_Code_Quotes, CFTC_Commodity_Code_Quotes, CFTC_SubGroup_Code, FutOnly_or_Combined\n",
      "Expected: Report_Date_as_YYYY-MM-DD but found: Report_Date_as_MM_DD_YYYY\n",
      "CSV file: gs://commitment-of-traders-350613/raw/cot_reports_2012-01-01.txt\n"
     ]
    },
    {
     "name": "stderr",
     "output_type": "stream",
     "text": [
      "                                                                                \r"
     ]
    }
   ],
   "source": [
    "write_to_bigquery(cot_schema)"
   ]
  },
  {
   "cell_type": "code",
   "execution_count": null,
   "id": "d366a53b",
   "metadata": {},
   "outputs": [],
   "source": [
    "datetime.today().strftime('%Y-%m-%d')"
   ]
  },
  {
   "cell_type": "code",
   "execution_count": null,
   "id": "cefbed50",
   "metadata": {},
   "outputs": [],
   "source": [
    "!pip install pipe"
   ]
  },
  {
   "cell_type": "code",
   "execution_count": null,
   "id": "2d971075",
   "metadata": {},
   "outputs": [],
   "source": [
    "import pipe"
   ]
  },
  {
   "cell_type": "code",
   "execution_count": null,
   "id": "0666fc6b",
   "metadata": {},
   "outputs": [],
   "source": [
    "help(pipe)"
   ]
  },
  {
   "cell_type": "code",
   "execution_count": null,
   "id": "280ce558",
   "metadata": {},
   "outputs": [],
   "source": [
    "def first(x):\n",
    "    return x+4\n",
    "\n",
    "def second(x):\n",
    "    return x - 4\n",
    "\n"
   ]
  },
  {
   "cell_type": "code",
   "execution_count": null,
   "id": "e56a3fe1",
   "metadata": {},
   "outputs": [],
   "source": [
    "frst = pipe.Pipe(first)\n",
    "second = pipe.Pipe(second)"
   ]
  },
  {
   "cell_type": "code",
   "execution_count": null,
   "id": "d151f7c9",
   "metadata": {},
   "outputs": [],
   "source": [
    "1 | second "
   ]
  },
  {
   "cell_type": "code",
   "execution_count": null,
   "id": "ef8beaac",
   "metadata": {},
   "outputs": [],
   "source": [
    "lst = ['first', 'second', 'third']"
   ]
  },
  {
   "cell_type": "code",
   "execution_count": null,
   "id": "7fec0e96",
   "metadata": {},
   "outputs": [],
   "source": [
    "idx = lst.index('first')"
   ]
  },
  {
   "cell_type": "code",
   "execution_count": null,
   "id": "4219a467",
   "metadata": {},
   "outputs": [],
   "source": [
    "lst.insert(idx + 1, 'first_1')"
   ]
  },
  {
   "cell_type": "code",
   "execution_count": null,
   "id": "4c8dc14c",
   "metadata": {},
   "outputs": [],
   "source": [
    "lst"
   ]
  },
  {
   "cell_type": "code",
   "execution_count": null,
   "id": "a4ddf0d0",
   "metadata": {},
   "outputs": [],
   "source": []
  }
 ],
 "metadata": {
  "kernelspec": {
   "display_name": "Python 3 (ipykernel)",
   "language": "python",
   "name": "python3"
  },
  "language_info": {
   "codemirror_mode": {
    "name": "ipython",
    "version": 3
   },
   "file_extension": ".py",
   "mimetype": "text/x-python",
   "name": "python",
   "nbconvert_exporter": "python",
   "pygments_lexer": "ipython3",
   "version": "3.9.10"
  }
 },
 "nbformat": 4,
 "nbformat_minor": 5
}
