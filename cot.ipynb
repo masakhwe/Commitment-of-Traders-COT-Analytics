{
 "cells": [
  {
   "cell_type": "code",
   "execution_count": 1,
   "id": "b878f347",
   "metadata": {},
   "outputs": [],
   "source": [
    "import pyspark\n",
    "from pyspark.sql import SparkSession\n",
    "from pyspark.conf import SparkConf\n",
    "from pyspark.context import SparkContext\n",
    "from pyspark.sql import functions as F\n",
    "from pyspark.sql import types\n",
    "\n",
    "import os\n",
    "import pandas as pd\n",
    "import matplotlib.pyplot as plt\n",
    "from dotenv import load_dotenv"
   ]
  },
  {
   "cell_type": "markdown",
   "id": "063c6227",
   "metadata": {},
   "source": [
    "Configuration"
   ]
  },
  {
   "cell_type": "code",
   "execution_count": 2,
   "id": "3003b0bf",
   "metadata": {},
   "outputs": [],
   "source": [
    "load_dotenv()\n",
    "credentials_location = os.getenv('GCP_CREDENTIALS_LOCATION')\n",
    "gcp_bucket_name = os.getenv('GCP_BUCKET')"
   ]
  },
  {
   "cell_type": "code",
   "execution_count": 3,
   "id": "384e48b5",
   "metadata": {},
   "outputs": [],
   "source": [
    "jar_1 = \"/Users/Manu/lib/spark-bigquery-with-dependencies_2.12-0.24.2.jar\"\n",
    "jar_2 = \"/Users/Manu/lib/gcs-connector-hadoop3-2.2.5.jar\"\n",
    "\n",
    "conf = SparkConf() \\\n",
    "    .setMaster('local[*]') \\\n",
    "    .setAppName('test') \\\n",
    "    .set(\"spark.jars\", f'{jar_1}, {jar_2}') \\\n",
    "    .set(\"spark.hadoop.google.cloud.auth.service.account.enable\", \"true\") \\\n",
    "    .set(\"spark.hadoop.google.cloud.auth.service.account.json.keyfile\", credentials_location)"
   ]
  },
  {
   "cell_type": "markdown",
   "id": "a15ca801",
   "metadata": {},
   "source": [
    "Context"
   ]
  },
  {
   "cell_type": "code",
   "execution_count": 4,
   "id": "727e98df",
   "metadata": {},
   "outputs": [
    {
     "name": "stderr",
     "output_type": "stream",
     "text": [
      "22/04/20 13:54:44 WARN NativeCodeLoader: Unable to load native-hadoop library for your platform... using builtin-java classes where applicable\n",
      "Using Spark's default log4j profile: org/apache/spark/log4j-defaults.properties\n",
      "Setting default log level to \"WARN\".\n",
      "To adjust logging level use sc.setLogLevel(newLevel). For SparkR, use setLogLevel(newLevel).\n"
     ]
    }
   ],
   "source": [
    "sc = SparkContext(conf=conf)\n",
    "\n",
    "hadoop_conf = sc._jsc.hadoopConfiguration()\n",
    "\n",
    "hadoop_conf.set(\"fs.AbstractFileSystem.gs.impl\", \"com.google.cloud.hadoop.fs.gcs.GoogleHadoopFS\")\n",
    "hadoop_conf.set(\"fs.gs.impl\", \"com.google.cloud.hadoop.fs.gcs.GoogleHadoopFileSystem\")\n",
    "hadoop_conf.set(\"fs.gs.auth.service.account.json.keyfile\", credentials_location)\n",
    "hadoop_conf.set(\"fs.gs.auth.service.account.enable\", 'true')"
   ]
  },
  {
   "cell_type": "markdown",
   "id": "6b90d66f",
   "metadata": {},
   "source": [
    "Session"
   ]
  },
  {
   "cell_type": "code",
   "execution_count": 5,
   "id": "50ac3b22",
   "metadata": {},
   "outputs": [],
   "source": [
    "spark = SparkSession.builder \\\n",
    "    .config(\"spark.jars.packages\", \"com.crealytics:spark-excel_2.11:0.12.2\", conf=sc.getConf()) \\\n",
    "    .getOrCreate()"
   ]
  },
  {
   "cell_type": "markdown",
   "id": "286bfe3c",
   "metadata": {},
   "source": [
    "Reading data from google cloug storage"
   ]
  },
  {
   "cell_type": "code",
   "execution_count": 6,
   "id": "84704804",
   "metadata": {},
   "outputs": [],
   "source": [
    "cot = spark.read \\\n",
    "    .text(f'gs://{gcp_bucket_name}/raw/*')"
   ]
  },
  {
   "cell_type": "markdown",
   "id": "8058a95d",
   "metadata": {},
   "source": [
    "Extract the column names from the row object"
   ]
  },
  {
   "cell_type": "code",
   "execution_count": 7,
   "id": "fc518bee",
   "metadata": {},
   "outputs": [
    {
     "name": "stderr",
     "output_type": "stream",
     "text": [
      "                                                                                \r"
     ]
    }
   ],
   "source": [
    "col_row = cot.collect()[0].asDict()['value']"
   ]
  },
  {
   "cell_type": "markdown",
   "id": "7b8c95fa",
   "metadata": {},
   "source": [
    "Split the `col_row` to get a list of columns and remove the extra quotation marks"
   ]
  },
  {
   "cell_type": "code",
   "execution_count": 8,
   "id": "ddd724fe",
   "metadata": {},
   "outputs": [],
   "source": [
    "cols_cleaned = []\n",
    "\n",
    "cols = col_row.split(\",\")\n",
    "for cl in cols:\n",
    "    cols_cleaned.append(cl[1:-1])"
   ]
  },
  {
   "cell_type": "markdown",
   "id": "0a11e4a7",
   "metadata": {},
   "source": [
    "Generating new columns"
   ]
  },
  {
   "cell_type": "code",
   "execution_count": 9,
   "id": "4c8e1936",
   "metadata": {},
   "outputs": [],
   "source": [
    "cot_split = cot.select(\"*\") # Copy the data frame\n",
    "\n",
    "#split the initial column \"value\"\n",
    "split_cols = F.split(cot_split['value'], \",\")\n",
    "\n",
    "for key, value in enumerate(cols_cleaned):\n",
    "    cot_split = cot_split.withColumn(value, split_cols.getItem(key))"
   ]
  },
  {
   "cell_type": "markdown",
   "id": "780fa287",
   "metadata": {},
   "source": [
    "Add index column, use index column to filter out the first row, drop the first column and index column"
   ]
  },
  {
   "cell_type": "code",
   "execution_count": 10,
   "id": "d5d5e099",
   "metadata": {},
   "outputs": [],
   "source": [
    "# Add index column\n",
    "cot_split = cot_split.withColumn('index', F.monotonically_increasing_id())\n",
    "\n",
    "# filter out first column and drop value and index columns\n",
    "cot_split = cot_split \\\n",
    "        .filter(cot_split['index'] >= 1) \\\n",
    "        .drop('value', 'index')\n",
    "\n",
    "\n",
    "# Removing any leading or trailing spaces\n",
    "for col_name in cot_split.columns:\n",
    "    cot_split = cot_split.withColumn(col_name, F.trim(cot_split[col_name]))"
   ]
  },
  {
   "cell_type": "markdown",
   "id": "1b588143",
   "metadata": {},
   "source": [
    "Convert to pandas dataframe"
   ]
  },
  {
   "cell_type": "code",
   "execution_count": 11,
   "id": "9b1c75c0",
   "metadata": {},
   "outputs": [
    {
     "name": "stderr",
     "output_type": "stream",
     "text": [
      "22/04/20 13:59:20 WARN package: Truncated the string representation of a plan since it was too large. This behavior can be adjusted by setting 'spark.sql.debug.maxToStringFields'.\n",
      "                                                                                \r"
     ]
    }
   ],
   "source": [
    "cot_panda = cot_split.toPandas()"
   ]
  },
  {
   "cell_type": "code",
   "execution_count": 12,
   "id": "0a60c3b3",
   "metadata": {
    "scrolled": true
   },
   "outputs": [],
   "source": [
    "cot_panda = cot_panda[cot_panda['Open_Interest_All'].str.isnumeric()]\n",
    "cot_panda['Open_Interest_All'] = cot_panda['Open_Interest_All'].astype(int)"
   ]
  },
  {
   "cell_type": "markdown",
   "id": "5ceee914",
   "metadata": {},
   "source": [
    "Temporary save to local environment"
   ]
  },
  {
   "cell_type": "code",
   "execution_count": 13,
   "id": "38c4a862",
   "metadata": {},
   "outputs": [],
   "source": [
    "cot_panda.to_csv('cot_panda.csv', index=False)"
   ]
  },
  {
   "cell_type": "markdown",
   "id": "4bebf253",
   "metadata": {},
   "source": [
    "Define Schema"
   ]
  },
  {
   "cell_type": "code",
   "execution_count": 14,
   "id": "f16f9a72",
   "metadata": {},
   "outputs": [],
   "source": [
    "schema = types.StructType([\n",
    "    types.StructField('Market_and_Exchange_Names', types.StringType(), True),\n",
    "    types.StructField('As_of_Date_In_Form_YYMMDD', types.StringType(), True), \n",
    "    types.StructField('Report_Date_as_YYYY-MM-DD', types.DateType(), True), \n",
    "    types.StructField('CFTC_Contract_Market_Code', types.StringType(), True),\n",
    "    types.StructField('CFTC_Market_Code', types.StringType(), True),\n",
    "    types.StructField('CFTC_Region_Code', types.StringType(), True), \n",
    "    types.StructField('CFTC_Commodity_Code', types.StringType(), True),\n",
    "    types.StructField('Open_Interest_All', types.IntegerType(), True),\n",
    "    types.StructField('Dealer_Positions_Long_All', types.IntegerType(), True),\n",
    "    types.StructField('Dealer_Positions_Short_All', types.IntegerType(), True),\n",
    "    types.StructField('Dealer_Positions_Spread_All', types.IntegerType(), True),\n",
    "    types.StructField('Asset_Mgr_Positions_Long_All', types.IntegerType(), True),\n",
    "    types.StructField('Asset_Mgr_Positions_Short_All', types.IntegerType(), True),\n",
    "    types.StructField('Asset_Mgr_Positions_Spread_All', types.IntegerType(), True),\n",
    "    types.StructField('Lev_Money_Positions_Long_All', types.IntegerType(), True),\n",
    "    types.StructField('Lev_Money_Positions_Short_All', types.IntegerType(), True),\n",
    "    types.StructField('Lev_Money_Positions_Spread_All', types.IntegerType(), True),\n",
    "    types.StructField('Other_Rept_Positions_Long_All', types.IntegerType(), True),\n",
    "    types.StructField('Other_Rept_Positions_Short_All', types.IntegerType(), True),\n",
    "    types.StructField('Other_Rept_Positions_Spread_All', types.IntegerType(), True),\n",
    "    types.StructField('Tot_Rept_Positions_Long_All', types.IntegerType(), True),\n",
    "    types.StructField('Tot_Rept_Positions_Short_All', types.IntegerType(), True),\n",
    "    types.StructField('NonRept_Positions_Long_All', types.IntegerType(), True),\n",
    "    types.StructField('NonRept_Positions_Short_All', types.IntegerType(), True),\n",
    "    types.StructField('Change_in_Open_Interest_All', types.IntegerType(), True),\n",
    "    types.StructField('Change_in_Dealer_Long_All', types.IntegerType(), True),\n",
    "    types.StructField('Change_in_Dealer_Short_All', types.IntegerType(), True),\n",
    "    types.StructField('Change_in_Dealer_Spread_All', types.IntegerType(), True),\n",
    "    types.StructField('Change_in_Asset_Mgr_Long_All', types.IntegerType(), True),\n",
    "    types.StructField('Change_in_Asset_Mgr_Short_All', types.IntegerType(), True),\n",
    "    types.StructField('Change_in_Asset_Mgr_Spread_All', types.IntegerType(), True),\n",
    "    types.StructField('Change_in_Lev_Money_Long_All', types.IntegerType(), True),\n",
    "    types.StructField('Change_in_Lev_Money_Short_All', types.IntegerType(), True),\n",
    "    types.StructField('Change_in_Lev_Money_Spread_All', types.IntegerType(), True),\n",
    "    types.StructField('Change_in_Other_Rept_Long_All', types.IntegerType(), True),\n",
    "    types.StructField('Change_in_Other_Rept_Short_All', types.IntegerType(), True),\n",
    "    types.StructField('Change_in_Other_Rept_Spread_All', types.IntegerType(), True),\n",
    "    types.StructField('Change_in_Tot_Rept_Long_All', types.IntegerType(), True),\n",
    "    types.StructField('Change_in_Tot_Rept_Short_All', types.IntegerType(), True),\n",
    "    types.StructField('Change_in_NonRept_Long_All', types.IntegerType(), True),\n",
    "    types.StructField('Change_in_NonRept_Short_All', types.IntegerType(), True),\n",
    "    types.StructField('Pct_of_Open_Interest_All', types.IntegerType(), True),\n",
    "    types.StructField('Pct_of_OI_Dealer_Long_All', types.FloatType(), True),\n",
    "    types.StructField('Pct_of_OI_Dealer_Short_All', types.FloatType(), True),\n",
    "    types.StructField('Pct_of_OI_Dealer_Spread_All', types.FloatType(), True),\n",
    "    types.StructField('Pct_of_OI_Asset_Mgr_Long_All', types.FloatType(), True),\n",
    "    types.StructField('Pct_of_OI_Asset_Mgr_Short_All', types.FloatType(), True),\n",
    "    types.StructField('Pct_of_OI_Asset_Mgr_Spread_All', types.FloatType(), True),\n",
    "    types.StructField('Pct_of_OI_Lev_Money_Long_All', types.FloatType(), True),\n",
    "    types.StructField('Pct_of_OI_Lev_Money_Short_All', types.FloatType(), True),\n",
    "    types.StructField('Pct_of_OI_Lev_Money_Spread_All', types.FloatType(), True),\n",
    "    types.StructField('Pct_of_OI_Other_Rept_Long_All', types.FloatType(), True),\n",
    "    types.StructField('Pct_of_OI_Other_Rept_Short_All', types.FloatType(), True),\n",
    "    types.StructField('Pct_of_OI_Other_Rept_Spread_All', types.FloatType(), True),\n",
    "    types.StructField('Pct_of_OI_Tot_Rept_Long_All', types.FloatType(), True),\n",
    "    types.StructField('Pct_of_OI_Tot_Rept_Short_All', types.FloatType(), True),\n",
    "    types.StructField('Pct_of_OI_NonRept_Long_All', types.FloatType(), True),\n",
    "    types.StructField('Pct_of_OI_NonRept_Short_All', types.FloatType(), True),\n",
    "    types.StructField('Traders_Tot_All', types.IntegerType(), True),\n",
    "    types.StructField('Traders_Dealer_Long_All', types.IntegerType(), True),\n",
    "    types.StructField('Traders_Dealer_Short_All', types.IntegerType(), True),\n",
    "    types.StructField('Traders_Dealer_Spread_All', types.IntegerType(), True),\n",
    "    types.StructField('Traders_Asset_Mgr_Long_All', types.IntegerType(), True),\n",
    "    types.StructField('Traders_Asset_Mgr_Short_All', types.IntegerType(), True),\n",
    "    types.StructField('Traders_Asset_Mgr_Spread_All', types.IntegerType(), True),\n",
    "    types.StructField('Traders_Lev_Money_Long_All', types.IntegerType(), True),\n",
    "    types.StructField('Traders_Lev_Money_Short_All', types.IntegerType(), True),\n",
    "    types.StructField('Traders_Lev_Money_Spread_All', types.IntegerType(), True),\n",
    "    types.StructField('Traders_Other_Rept_Long_All', types.IntegerType(), True),\n",
    "    types.StructField('Traders_Other_Rept_Short_All', types.IntegerType(), True),\n",
    "    types.StructField('Traders_Other_Rept_Spread_All', types.IntegerType(), True),\n",
    "    types.StructField('Traders_Tot_Rept_Long_All', types.StringType(), True),\n",
    "    types.StructField('Traders_Tot_Rept_Short_All', types.StringType(), True),\n",
    "    types.StructField('Conc_Gross_LE_4_TDR_Long_All', types.FloatType(), True),\n",
    "    types.StructField('Conc_Gross_LE_4_TDR_Short_All', types.FloatType(), True),\n",
    "    types.StructField('Conc_Gross_LE_8_TDR_Long_All', types.FloatType(), True),\n",
    "    types.StructField('Conc_Gross_LE_8_TDR_Short_All', types.FloatType(), True),\n",
    "    types.StructField('Conc_Net_LE_4_TDR_Long_All', types.FloatType(), True),\n",
    "    types.StructField('Conc_Net_LE_4_TDR_Short_All', types.FloatType(), True),\n",
    "    types.StructField('Conc_Net_LE_8_TDR_Long_All', types.FloatType(), True),\n",
    "    types.StructField('Conc_Net_LE_8_TDR_Short_All', types.FloatType(), True),\n",
    "    types.StructField('Contract_Units', types.StringType(), True),\n",
    "    types.StructField('CFTC_Contract_Market_Code_Quotes', types.StringType(), True),\n",
    "    types.StructField('CFTC_Market_Code_Quotes', types.StringType(), True),\n",
    "    types.StructField('CFTC_Commodity_Code_Quotes', types.StringType(), True),\n",
    "    types.StructField('CFTC_SubGroup_Code', types.StringType(), True),\n",
    "    types.StructField('FutOnly_or_Combined', types.StringType(), True)    \n",
    "])"
   ]
  },
  {
   "cell_type": "markdown",
   "id": "fb1fe9f0",
   "metadata": {},
   "source": [
    "Read from local environment and incorporate Schema"
   ]
  },
  {
   "cell_type": "code",
   "execution_count": 15,
   "id": "9c0ad12a",
   "metadata": {},
   "outputs": [],
   "source": [
    "cot_panda_sp = spark.read \\\n",
    "        .option('header', 'true') \\\n",
    "        .schema(schema) \\\n",
    "        .csv('cot_panda.csv')"
   ]
  },
  {
   "cell_type": "markdown",
   "id": "9c657c53",
   "metadata": {},
   "source": [
    "Remove the extra quotation marks and brackets on `Market_and_Exchange_Names`, `Contract_Units`,  `CFTC_Contract_Market_Code_Quotes`, `CFTC_Commodity_Code_Quotes`, `CFTC_SubGroup_Code`,  `FutOnly_or_Combined` column values"
   ]
  },
  {
   "cell_type": "code",
   "execution_count": 16,
   "id": "1419aa13",
   "metadata": {},
   "outputs": [],
   "source": [
    "error_cols = ['Market_and_Exchange_Names', 'Contract_Units', 'CFTC_Contract_Market_Code_Quotes', 'CFTC_Commodity_Code_Quotes', 'CFTC_SubGroup_Code', 'FutOnly_or_Combined']\n",
    "\n",
    "for column in error_cols:\n",
    "    cot_panda_sp = cot_panda_sp \\\n",
    "        .withColumn(column, F.regexp_replace(cot_panda_sp[column], '\"', \"\"))"
   ]
  },
  {
   "cell_type": "markdown",
   "id": "c8e55dd1",
   "metadata": {},
   "source": [
    "Rename date column"
   ]
  },
  {
   "cell_type": "code",
   "execution_count": 17,
   "id": "c84f36ce",
   "metadata": {},
   "outputs": [],
   "source": [
    "cot_panda_sp = cot_panda_sp.withColumnRenamed('Report_Date_as_YYYY-MM-DD', 'Report_Date')"
   ]
  },
  {
   "cell_type": "markdown",
   "id": "b76fa52c",
   "metadata": {},
   "source": [
    "Writing to file the cleaned version with correct data types"
   ]
  },
  {
   "cell_type": "code",
   "execution_count": 18,
   "id": "cdc19f9f",
   "metadata": {
    "scrolled": false
   },
   "outputs": [
    {
     "name": "stderr",
     "output_type": "stream",
     "text": [
      "                                                                                \r"
     ]
    }
   ],
   "source": [
    "cot_panda_sp.write.parquet(f'gs://{gcp_bucket_name}/cleaned/pq', mode='overwrite')"
   ]
  },
  {
   "cell_type": "markdown",
   "id": "290dbc9e",
   "metadata": {},
   "source": [
    "Select the required columns"
   ]
  },
  {
   "cell_type": "code",
   "execution_count": 19,
   "id": "78558c0e",
   "metadata": {},
   "outputs": [],
   "source": [
    "required_cols = [\n",
    " 'Market_and_Exchange_Names',\n",
    " 'Report_Date',\n",
    " 'CFTC_Contract_Market_Code',\n",
    " 'CFTC_Market_Code',\n",
    " 'CFTC_Region_Code',\n",
    " 'CFTC_Commodity_Code',\n",
    " 'Open_Interest_All',\n",
    " 'Dealer_Positions_Long_All',\n",
    " 'Dealer_Positions_Short_All',\n",
    " 'Dealer_Positions_Spread_All',\n",
    " 'Asset_Mgr_Positions_Long_All',\n",
    " 'Asset_Mgr_Positions_Short_All',\n",
    " 'Asset_Mgr_Positions_Spread_All',\n",
    " 'Lev_Money_Positions_Long_All',\n",
    " 'Lev_Money_Positions_Short_All',\n",
    " 'Lev_Money_Positions_Spread_All',\n",
    " 'Other_Rept_Positions_Long_All',\n",
    " 'Other_Rept_Positions_Short_All',\n",
    " 'Other_Rept_Positions_Spread_All',\n",
    " 'Tot_Rept_Positions_Long_All',\n",
    " 'Tot_Rept_Positions_Short_All',\n",
    " 'NonRept_Positions_Long_All',\n",
    " 'NonRept_Positions_Short_All',\n",
    " 'Change_in_Open_Interest_All',\n",
    " 'Change_in_Dealer_Long_All',\n",
    " 'Change_in_Dealer_Short_All',\n",
    " 'Change_in_Dealer_Spread_All',\n",
    " 'Change_in_Asset_Mgr_Long_All',\n",
    " 'Change_in_Asset_Mgr_Short_All',\n",
    " 'Change_in_Asset_Mgr_Spread_All',\n",
    " 'Change_in_Lev_Money_Long_All',\n",
    " 'Change_in_Lev_Money_Short_All',\n",
    " 'Change_in_Lev_Money_Spread_All',\n",
    " 'Change_in_Other_Rept_Long_All',\n",
    " 'Change_in_Other_Rept_Short_All',\n",
    " 'Change_in_Other_Rept_Spread_All',\n",
    " 'Change_in_Tot_Rept_Long_All',\n",
    " 'Change_in_Tot_Rept_Short_All',\n",
    " 'Change_in_NonRept_Long_All',\n",
    " 'Change_in_NonRept_Short_All',\n",
    " 'Traders_Tot_All',\n",
    " 'Traders_Dealer_Long_All',\n",
    " 'Traders_Dealer_Short_All',\n",
    " 'Traders_Dealer_Spread_All',\n",
    " 'Traders_Asset_Mgr_Long_All',\n",
    " 'Traders_Asset_Mgr_Short_All',\n",
    " 'Traders_Asset_Mgr_Spread_All',\n",
    " 'Traders_Lev_Money_Long_All',\n",
    " 'Traders_Lev_Money_Short_All',\n",
    " 'Traders_Lev_Money_Spread_All',\n",
    " 'Traders_Other_Rept_Long_All',\n",
    " 'Traders_Other_Rept_Short_All',\n",
    " 'Traders_Other_Rept_Spread_All',\n",
    " 'Traders_Tot_Rept_Long_All',\n",
    " 'Traders_Tot_Rept_Short_All'\n",
    "]"
   ]
  },
  {
   "cell_type": "code",
   "execution_count": 20,
   "id": "9170f401",
   "metadata": {},
   "outputs": [],
   "source": [
    "cot_select = cot_panda_sp.select(required_cols)"
   ]
  },
  {
   "cell_type": "code",
   "execution_count": 39,
   "id": "4f1f7854",
   "metadata": {},
   "outputs": [
    {
     "name": "stdout",
     "output_type": "stream",
     "text": [
      "+-------------------------+-----------+-----------------+\n",
      "|Market_and_Exchange_Names|Report_Date|Open_Interest_All|\n",
      "+-------------------------+-----------+-----------------+\n",
      "|     CANADIAN DOLLAR -...| 2022-04-05|           157562|\n",
      "|     SWISS FRANC - CHI...| 2022-04-05|            40005|\n",
      "|     BRITISH POUND - C...| 2022-04-05|           238266|\n",
      "|     JAPANESE YEN - CH...| 2022-04-05|           242217|\n",
      "|     EURO FX - CHICAGO...| 2022-04-05|           663589|\n",
      "|     AUSTRALIAN DOLLAR...| 2022-04-05|           148898|\n",
      "|     EURO FX/BRITISH P...| 2022-04-05|            31000|\n",
      "|     EURO FX/JAPANESE ...| 2022-04-05|            23058|\n",
      "|     MEXICAN PESO - CH...| 2022-04-05|           172712|\n",
      "|     BRAZILIAN REAL - ...| 2022-04-05|            65870|\n",
      "|     NZ DOLLAR - CHICA...| 2022-04-05|            35788|\n",
      "|     SO AFRICAN RAND -...| 2022-04-05|            25442|\n",
      "|     DJIA Consolidated...| 2022-04-05|            33316|\n",
      "|     DJIA x $5 - CHICA...| 2022-04-05|            66632|\n",
      "|     DOW JONES U.S. RE...| 2022-04-05|            41272|\n",
      "|     S&P 500 Consolida...| 2022-04-05|           424471|\n",
      "|     E-MINI S&P CONSU ...| 2022-04-05|            11601|\n",
      "|     E-MINI S&P ENERGY...| 2022-04-05|            37460|\n",
      "|     E-MINI S&P 500 - ...| 2022-04-05|          2122357|\n",
      "|     E-MINI S&P FINANC...| 2022-04-05|            28609|\n",
      "+-------------------------+-----------+-----------------+\n",
      "only showing top 20 rows\n",
      "\n"
     ]
    }
   ],
   "source": [
    "cot_select \\\n",
    "    .filter(cot_select['Report_Date'] == '2022-04-05') \\\n",
    "    .select(['Market_and_Exchange_Names', 'Report_Date', 'Open_Interest_All']) \\\n",
    "    .show()"
   ]
  },
  {
   "cell_type": "markdown",
   "id": "86838db6",
   "metadata": {},
   "source": [
    "Writing the resulting dataframe as a BigQuery table"
   ]
  },
  {
   "cell_type": "code",
   "execution_count": 22,
   "id": "56a69f61",
   "metadata": {},
   "outputs": [
    {
     "name": "stderr",
     "output_type": "stream",
     "text": [
      "                                                                                \r"
     ]
    }
   ],
   "source": [
    "cot_select.write \\\n",
    "    .format('bigquery') \\\n",
    "    .option('project', 'awesome-treat-338822') \\\n",
    "    .option('parentProject', 'awesome-treat-338822') \\\n",
    "    .option('table', 'committment_of_traders.cot') \\\n",
    "    .option(\"temporaryGcsBucket\",\"temp_bucket_338822\") \\\n",
    "    .mode('overwrite') \\\n",
    "    .save()"
   ]
  },
  {
   "cell_type": "code",
   "execution_count": null,
   "id": "2ba8fb5f",
   "metadata": {},
   "outputs": [],
   "source": []
  }
 ],
 "metadata": {
  "kernelspec": {
   "display_name": "Python 3.9.9 64-bit",
   "language": "python",
   "name": "python399jvsc74a57bd0aee8b7b246df8f9039afb4144a1f6fd8d2ca17a180786b69acc140d282b71a49"
  },
  "language_info": {
   "codemirror_mode": {
    "name": "ipython",
    "version": 3
   },
   "file_extension": ".py",
   "mimetype": "text/x-python",
   "name": "python",
   "nbconvert_exporter": "python",
   "pygments_lexer": "ipython3",
   "version": "3.9.9"
  }
 },
 "nbformat": 4,
 "nbformat_minor": 5
}
