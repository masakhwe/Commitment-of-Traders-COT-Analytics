{
 "cells": [
  {
   "cell_type": "code",
   "execution_count": 1,
   "id": "b878f347",
   "metadata": {},
   "outputs": [],
   "source": [
    "import pyspark\n",
    "from pyspark.sql import SparkSession\n",
    "from pyspark.conf import SparkConf\n",
    "from pyspark.context import SparkContext\n",
    "from pyspark.sql import functions as F\n",
    "\n",
    "import os\n",
    "import pandas as pd\n",
    "from dotenv import load_dotenv"
   ]
  },
  {
   "cell_type": "markdown",
   "id": "063c6227",
   "metadata": {},
   "source": [
    "Configuration"
   ]
  },
  {
   "cell_type": "code",
   "execution_count": 7,
   "id": "3003b0bf",
   "metadata": {},
   "outputs": [],
   "source": [
    "load_dotenv()\n",
    "credentials_location = os.getenv('GCP_CREDENTIALS_LOCATION')\n",
    "gcp_bucket_name = os.getenv('GCP_BUCKET')"
   ]
  },
  {
   "cell_type": "code",
   "execution_count": 3,
   "id": "384e48b5",
   "metadata": {},
   "outputs": [],
   "source": [
    "conf = SparkConf() \\\n",
    "    .setMaster('local[*]') \\\n",
    "    .setAppName('test') \\\n",
    "    .set(\"spark.jars\", \"/Users/Manu/lib/gcs-connector-hadoop3-2.2.5.jar\") \\\n",
    "    .set(\"spark.hadoop.google.cloud.auth.service.account.enable\", \"true\") \\\n",
    "    .set(\"spark.hadoop.google.cloud.auth.service.account.json.keyfile\", credentials_location)"
   ]
  },
  {
   "cell_type": "markdown",
   "id": "a15ca801",
   "metadata": {},
   "source": [
    "Context"
   ]
  },
  {
   "cell_type": "code",
   "execution_count": 4,
   "id": "727e98df",
   "metadata": {},
   "outputs": [
    {
     "name": "stderr",
     "output_type": "stream",
     "text": [
      "22/04/11 04:33:35 WARN NativeCodeLoader: Unable to load native-hadoop library for your platform... using builtin-java classes where applicable\n",
      "Using Spark's default log4j profile: org/apache/spark/log4j-defaults.properties\n",
      "Setting default log level to \"WARN\".\n",
      "To adjust logging level use sc.setLogLevel(newLevel). For SparkR, use setLogLevel(newLevel).\n"
     ]
    }
   ],
   "source": [
    "sc = SparkContext(conf=conf)\n",
    "\n",
    "hadoop_conf = sc._jsc.hadoopConfiguration()\n",
    "\n",
    "hadoop_conf.set(\"fs.AbstractFileSystem.gs.impl\", \"com.google.cloud.hadoop.fs.gcs.GoogleHadoopFS\")\n",
    "hadoop_conf.set(\"fs.gs.impl\", \"com.google.cloud.hadoop.fs.gcs.GoogleHadoopFileSystem\")\n",
    "hadoop_conf.set(\"fs.gs.auth.service.account.json.keyfile\", credentials_location)\n",
    "hadoop_conf.set(\"fs.gs.auth.service.account.enable\", 'true')"
   ]
  },
  {
   "cell_type": "markdown",
   "id": "6b90d66f",
   "metadata": {},
   "source": [
    "Session"
   ]
  },
  {
   "cell_type": "code",
   "execution_count": 5,
   "id": "50ac3b22",
   "metadata": {},
   "outputs": [],
   "source": [
    "spark = SparkSession.builder \\\n",
    "    .config(\"spark.jars.packages\", \"com.crealytics:spark-excel_2.11:0.12.2\", conf=sc.getConf()) \\\n",
    "    .getOrCreate()"
   ]
  },
  {
   "cell_type": "markdown",
   "id": "286bfe3c",
   "metadata": {},
   "source": [
    "Reading data from google cloug storage"
   ]
  },
  {
   "cell_type": "code",
   "execution_count": 8,
   "id": "84704804",
   "metadata": {},
   "outputs": [],
   "source": [
    "cot = spark.read \\\n",
    "    .text(f'gs://{gcp_bucket_name}/raw/*')"
   ]
  },
  {
   "cell_type": "code",
   "execution_count": 9,
   "id": "33524d65",
   "metadata": {},
   "outputs": [
    {
     "name": "stderr",
     "output_type": "stream",
     "text": [
      "\r",
      "[Stage 0:>                                                          (0 + 1) / 1]\r"
     ]
    },
    {
     "name": "stdout",
     "output_type": "stream",
     "text": [
      "+--------------------+\n",
      "|               value|\n",
      "+--------------------+\n",
      "|\"Market_and_Excha...|\n",
      "|\"CANADIAN DOLLAR ...|\n",
      "|\"CANADIAN DOLLAR ...|\n",
      "|\"CANADIAN DOLLAR ...|\n",
      "|\"CANADIAN DOLLAR ...|\n",
      "+--------------------+\n",
      "only showing top 5 rows\n",
      "\n"
     ]
    },
    {
     "name": "stderr",
     "output_type": "stream",
     "text": [
      "\r",
      "                                                                                \r"
     ]
    }
   ],
   "source": [
    "cot.show(5)"
   ]
  },
  {
   "cell_type": "code",
   "execution_count": 8,
   "id": "2a4a199f",
   "metadata": {},
   "outputs": [
    {
     "name": "stderr",
     "output_type": "stream",
     "text": [
      "                                                                                \r"
     ]
    },
    {
     "data": {
      "text/plain": [
       "24140"
      ]
     },
     "execution_count": 8,
     "metadata": {},
     "output_type": "execute_result"
    }
   ],
   "source": [
    "cot.count()"
   ]
  },
  {
   "cell_type": "code",
   "execution_count": 9,
   "id": "6645c0e0",
   "metadata": {},
   "outputs": [
    {
     "name": "stderr",
     "output_type": "stream",
     "text": [
      "                                                                                \r"
     ]
    },
    {
     "data": {
      "text/plain": [
       "[Row(value='\"Market_and_Exchange_Names\",\"As_of_Date_In_Form_YYMMDD\",\"Report_Date_as_YYYY-MM-DD\",\"CFTC_Contract_Market_Code\",\"CFTC_Market_Code\",\"CFTC_Region_Code\",\"CFTC_Commodity_Code\",\"Open_Interest_All\",\"Dealer_Positions_Long_All\",\"Dealer_Positions_Short_All\",\"Dealer_Positions_Spread_All\",\"Asset_Mgr_Positions_Long_All\",\"Asset_Mgr_Positions_Short_All\",\"Asset_Mgr_Positions_Spread_All\",\"Lev_Money_Positions_Long_All\",\"Lev_Money_Positions_Short_All\",\"Lev_Money_Positions_Spread_All\",\"Other_Rept_Positions_Long_All\",\"Other_Rept_Positions_Short_All\",\"Other_Rept_Positions_Spread_All\",\"Tot_Rept_Positions_Long_All\",\"Tot_Rept_Positions_Short_All\",\"NonRept_Positions_Long_All\",\"NonRept_Positions_Short_All\",\"Change_in_Open_Interest_All\",\"Change_in_Dealer_Long_All\",\"Change_in_Dealer_Short_All\",\"Change_in_Dealer_Spread_All\",\"Change_in_Asset_Mgr_Long_All\",\"Change_in_Asset_Mgr_Short_All\",\"Change_in_Asset_Mgr_Spread_All\",\"Change_in_Lev_Money_Long_All\",\"Change_in_Lev_Money_Short_All\",\"Change_in_Lev_Money_Spread_All\",\"Change_in_Other_Rept_Long_All\",\"Change_in_Other_Rept_Short_All\",\"Change_in_Other_Rept_Spread_All\",\"Change_in_Tot_Rept_Long_All\",\"Change_in_Tot_Rept_Short_All\",\"Change_in_NonRept_Long_All\",\"Change_in_NonRept_Short_All\",\"Pct_of_Open_Interest_All\",\"Pct_of_OI_Dealer_Long_All\",\"Pct_of_OI_Dealer_Short_All\",\"Pct_of_OI_Dealer_Spread_All\",\"Pct_of_OI_Asset_Mgr_Long_All\",\"Pct_of_OI_Asset_Mgr_Short_All\",\"Pct_of_OI_Asset_Mgr_Spread_All\",\"Pct_of_OI_Lev_Money_Long_All\",\"Pct_of_OI_Lev_Money_Short_All\",\"Pct_of_OI_Lev_Money_Spread_All\",\"Pct_of_OI_Other_Rept_Long_All\",\"Pct_of_OI_Other_Rept_Short_All\",\"Pct_of_OI_Other_Rept_Spread_All\",\"Pct_of_OI_Tot_Rept_Long_All\",\"Pct_of_OI_Tot_Rept_Short_All\",\"Pct_of_OI_NonRept_Long_All\",\"Pct_of_OI_NonRept_Short_All\",\"Traders_Tot_All\",\"Traders_Dealer_Long_All\",\"Traders_Dealer_Short_All\",\"Traders_Dealer_Spread_All\",\"Traders_Asset_Mgr_Long_All\",\"Traders_Asset_Mgr_Short_All\",\"Traders_Asset_Mgr_Spread_All\",\"Traders_Lev_Money_Long_All\",\"Traders_Lev_Money_Short_All\",\"Traders_Lev_Money_Spread_All\",\"Traders_Other_Rept_Long_All\",\"Traders_Other_Rept_Short_All\",\"Traders_Other_Rept_Spread_All\",\"Traders_Tot_Rept_Long_All\",\"Traders_Tot_Rept_Short_All\",\"Conc_Gross_LE_4_TDR_Long_All\",\"Conc_Gross_LE_4_TDR_Short_All\",\"Conc_Gross_LE_8_TDR_Long_All\",\"Conc_Gross_LE_8_TDR_Short_All\",\"Conc_Net_LE_4_TDR_Long_All\",\"Conc_Net_LE_4_TDR_Short_All\",\"Conc_Net_LE_8_TDR_Long_All\",\"Conc_Net_LE_8_TDR_Short_All\",\"Contract_Units\",\"CFTC_Contract_Market_Code_Quotes\",\"CFTC_Market_Code_Quotes\",\"CFTC_Commodity_Code_Quotes\",\"CFTC_SubGroup_Code\",\"FutOnly_or_Combined\"'),\n",
       " Row(value='\"CANADIAN DOLLAR - CHICAGO MERCANTILE EXCHANGE\",211228,2021-12-28,090741,CME ,00,090 ,  138692,   33018,   15462,    1615,   39561,   42085,    4817,   12466,   39885,    3957,   12894,    3674,     452,  108780,  111947,   29912,   26745,   -6870,   -1890,     506,     195,   -1565,   -3892,      86,   -3859,   -4047,    -229,     -44,     805,     -26,   -7332,   -6602,     462,    -268,  100.0,   23.8,   11.1,    1.2,   28.5,   30.3,    3.5,    9.0,   28.8,    2.9,    9.3,    2.6,    0.3,   78.4,   80.7,   21.6,   19.3,    105,      6,      7,.,     14,     21,     10,     14,     28,     12,     10,.,.,     60,     70,    33.3,    19.8,    45.5,    32.3,    32.8,    19.5,    43.5,    31.3,\"(CONTRACTS OF CAD 100,000)\",\"090741\",\"CME \",\"090 \",\"F10\",\"FutOnly\"')]"
      ]
     },
     "execution_count": 9,
     "metadata": {},
     "output_type": "execute_result"
    }
   ],
   "source": [
    "cot.collect()[:2]"
   ]
  },
  {
   "cell_type": "markdown",
   "id": "86f3af62",
   "metadata": {},
   "source": [
    "1. All colums have been combined into one column called `value`\n",
    "2. Need to split the column"
   ]
  },
  {
   "cell_type": "code",
   "execution_count": 10,
   "id": "a392f81f",
   "metadata": {},
   "outputs": [
    {
     "name": "stderr",
     "output_type": "stream",
     "text": [
      "\r",
      "[Stage 5:>                                                          (0 + 1) / 1]\r"
     ]
    },
    {
     "name": "stdout",
     "output_type": "stream",
     "text": [
      "+-------------------------+-------------------------+-------------------------+\n",
      "|Market_and_Exchange_Names|As_of_Date_In_Form_YYMMDD|Report_Date_as_MM_DD_YYYY|\n",
      "+-------------------------+-------------------------+-------------------------+\n",
      "|     \"CANADIAN DOLLAR ...|                   211228|               2021-12-28|\n",
      "|     \"CANADIAN DOLLAR ...|                   211221|               2021-12-21|\n",
      "|     \"CANADIAN DOLLAR ...|                   211214|               2021-12-14|\n",
      "|     \"CANADIAN DOLLAR ...|                   211207|               2021-12-07|\n",
      "|     \"CANADIAN DOLLAR ...|                   211130|               2021-11-30|\n",
      "|     \"CANADIAN DOLLAR ...|                   211123|               2021-11-23|\n",
      "|     \"CANADIAN DOLLAR ...|                   211116|               2021-11-16|\n",
      "|     \"CANADIAN DOLLAR ...|                   211109|               2021-11-09|\n",
      "|     \"CANADIAN DOLLAR ...|                   211102|               2021-11-02|\n",
      "|     \"CANADIAN DOLLAR ...|                   211026|               2021-10-26|\n",
      "|     \"CANADIAN DOLLAR ...|                   211019|               2021-10-19|\n",
      "|     \"CANADIAN DOLLAR ...|                   211012|               2021-10-12|\n",
      "|     \"CANADIAN DOLLAR ...|                   211005|               2021-10-05|\n",
      "|     \"CANADIAN DOLLAR ...|                   210928|               2021-09-28|\n",
      "|     \"CANADIAN DOLLAR ...|                   210921|               2021-09-21|\n",
      "|     \"CANADIAN DOLLAR ...|                   210914|               2021-09-14|\n",
      "|     \"CANADIAN DOLLAR ...|                   210907|               2021-09-07|\n",
      "|     \"CANADIAN DOLLAR ...|                   210831|               2021-08-31|\n",
      "|     \"CANADIAN DOLLAR ...|                   210824|               2021-08-24|\n",
      "|     \"CANADIAN DOLLAR ...|                   210817|               2021-08-17|\n",
      "+-------------------------+-------------------------+-------------------------+\n",
      "only showing top 20 rows\n",
      "\n"
     ]
    },
    {
     "name": "stderr",
     "output_type": "stream",
     "text": [
      "\r",
      "                                                                                \r"
     ]
    }
   ],
   "source": [
    "split_cols = F.split(cot['value'], ',')\n",
    "\n",
    "df_split = cot.withColumn('Market_and_Exchange_Names', split_cols.getItem(0)) \\\n",
    "    .withColumn('As_of_Date_In_Form_YYMMDD', split_cols.getItem(1)) \\\n",
    "    .withColumn('Report_Date_as_MM_DD_YYYY', split_cols.getItem(2)) \\\n",
    "    .withColumn(\"index\",F.monotonically_increasing_id())\n",
    "\n",
    "\n",
    "# filter out the first row, Delete value and index columns\n",
    "df_split = df_split.filter(df_split.index >= 1) \\\n",
    "        .drop('value', 'index') \\\n",
    "        .show()\n"
   ]
  },
  {
   "cell_type": "code",
   "execution_count": null,
   "id": "09ad5289",
   "metadata": {},
   "outputs": [],
   "source": []
  },
  {
   "cell_type": "code",
   "execution_count": null,
   "id": "cdc19f9f",
   "metadata": {},
   "outputs": [],
   "source": []
  }
 ],
 "metadata": {
  "kernelspec": {
   "display_name": "Python 3.9.9 64-bit",
   "language": "python",
   "name": "python399jvsc74a57bd0aee8b7b246df8f9039afb4144a1f6fd8d2ca17a180786b69acc140d282b71a49"
  },
  "language_info": {
   "codemirror_mode": {
    "name": "ipython",
    "version": 3
   },
   "file_extension": ".py",
   "mimetype": "text/x-python",
   "name": "python",
   "nbconvert_exporter": "python",
   "pygments_lexer": "ipython3",
   "version": "3.9.9"
  }
 },
 "nbformat": 4,
 "nbformat_minor": 5
}
